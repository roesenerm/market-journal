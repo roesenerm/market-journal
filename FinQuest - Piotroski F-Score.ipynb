{
 "cells": [
  {
   "cell_type": "code",
   "execution_count": 131,
   "metadata": {},
   "outputs": [],
   "source": [
    "import requests\n",
    "import pandas as pd\n",
    "from pandas.io.json import json_normalize "
   ]
  },
  {
   "cell_type": "code",
   "execution_count": 132,
   "metadata": {},
   "outputs": [],
   "source": [
    "token = ''\n",
    "#token = ''"
   ]
  },
  {
   "cell_type": "code",
   "execution_count": 133,
   "metadata": {},
   "outputs": [],
   "source": [
    "api = 'cloud'\n",
    "#api = 'sandbox'"
   ]
  },
  {
   "cell_type": "code",
   "execution_count": 134,
   "metadata": {},
   "outputs": [],
   "source": [
    "ticker = 'HOG'"
   ]
  },
  {
   "cell_type": "code",
   "execution_count": 135,
   "metadata": {},
   "outputs": [],
   "source": [
    "period = 'annual'"
   ]
  },
  {
   "cell_type": "code",
   "execution_count": 136,
   "metadata": {},
   "outputs": [],
   "source": [
    "last = '4'"
   ]
  },
  {
   "cell_type": "code",
   "execution_count": 137,
   "metadata": {},
   "outputs": [
    {
     "data": {
      "text/plain": [
       "200"
      ]
     },
     "execution_count": 137,
     "metadata": {},
     "output_type": "execute_result"
    }
   ],
   "source": [
    "# get balance sheet\n",
    "response = requests.get('https://'+api+'.iexapis.com/stable/stock/'+ticker+'/balance-sheet?period='+period+'&last='+last+'&token='+token)\n",
    "response.status_code"
   ]
  },
  {
   "cell_type": "code",
   "execution_count": 138,
   "metadata": {},
   "outputs": [
    {
     "data": {
      "text/plain": [
       "{'symbol': 'HOG',\n",
       " 'balancesheet': [{'reportDate': '2019-12-31',\n",
       "   'fiscalDate': '2019-12-31',\n",
       "   'currency': 'USD',\n",
       "   'currentCash': 898422000,\n",
       "   'shortTermInvestments': None,\n",
       "   'receivables': 2531856000,\n",
       "   'inventory': 603571000,\n",
       "   'otherCurrentAssets': 168974000,\n",
       "   'currentAssets': 4202823000,\n",
       "   'longTermInvestments': 52575000,\n",
       "   'propertyPlantEquipment': 909000000,\n",
       "   'goodwill': 64160000,\n",
       "   'intangibleAssets': 10597000,\n",
       "   'otherAssets': 85956000,\n",
       "   'totalAssets': 10528159000,\n",
       "   'accountsPayable': 294380000,\n",
       "   'currentLongTermDebt': 1748109000,\n",
       "   'otherCurrentLiabilities': 533404000,\n",
       "   'totalCurrentLiabilities': 3196772000,\n",
       "   'longTermDebt': 5169273000,\n",
       "   'otherLiabilities': 161217000,\n",
       "   'minorityInterest': 0,\n",
       "   'totalLiabilities': 8724160000,\n",
       "   'commonStock': 152468442,\n",
       "   'retainedEarnings': 2193997000,\n",
       "   'treasuryStock': 388032,\n",
       "   'capitalSurplus': 1491004000,\n",
       "   'shareholderEquity': 1803999000,\n",
       "   'netTangibleAssets': 1662842000},\n",
       "  {'reportDate': '2018-12-31',\n",
       "   'fiscalDate': '2018-12-31',\n",
       "   'currency': 'USD',\n",
       "   'currentCash': 1253041000,\n",
       "   'shortTermInvestments': 10007000,\n",
       "   'receivables': 2520898000,\n",
       "   'inventory': 556128000,\n",
       "   'otherCurrentAssets': 144368000,\n",
       "   'currentAssets': 4484442000,\n",
       "   'longTermInvestments': 54250000,\n",
       "   'propertyPlantEquipment': 904132000,\n",
       "   'goodwill': 55048000,\n",
       "   'intangibleAssets': 5998000,\n",
       "   'otherAssets': 12823000,\n",
       "   'totalAssets': 10665664000,\n",
       "   'accountsPayable': 284861000,\n",
       "   'currentLongTermDebt': 1575799000,\n",
       "   'otherCurrentLiabilities': 558047000,\n",
       "   'totalCurrentLiabilities': 3597600000,\n",
       "   'longTermDebt': 4887667000,\n",
       "   'otherLiabilities': 142808000,\n",
       "   'minorityInterest': 0,\n",
       "   'totalLiabilities': 8891715000,\n",
       "   'commonStock': 159657947,\n",
       "   'retainedEarnings': 2007583000,\n",
       "   'treasuryStock': 356197,\n",
       "   'capitalSurplus': 1459620000,\n",
       "   'shareholderEquity': 1773949000,\n",
       "   'netTangibleAssets': 1656619000},\n",
       "  {'reportDate': '2017-12-31',\n",
       "   'fiscalDate': '2017-12-31',\n",
       "   'currency': 'USD',\n",
       "   'currentCash': 735039000,\n",
       "   'shortTermInvestments': None,\n",
       "   'receivables': 2435648000,\n",
       "   'inventory': 538202000,\n",
       "   'otherCurrentAssets': 175853000,\n",
       "   'currentAssets': 3884742000,\n",
       "   'longTermInvestments': 48006000,\n",
       "   'propertyPlantEquipment': 967781000,\n",
       "   'goodwill': 55947000,\n",
       "   'intangibleAssets': 6910000,\n",
       "   'otherAssets': 40789000,\n",
       "   'totalAssets': 9972672000,\n",
       "   'accountsPayable': 227597000,\n",
       "   'currentLongTermDebt': 1127269000,\n",
       "   'otherCurrentLiabilities': 503878000,\n",
       "   'totalCurrentLiabilities': 3158170000,\n",
       "   'longTermDebt': 4587258000,\n",
       "   'otherLiabilities': 137378000,\n",
       "   'minorityInterest': 0,\n",
       "   'totalLiabilities': 8128395000,\n",
       "   'commonStock': 168090816,\n",
       "   'retainedEarnings': 1607570000,\n",
       "   'treasuryStock': 612523,\n",
       "   'capitalSurplus': 1422808000,\n",
       "   'shareholderEquity': 1844277000,\n",
       "   'netTangibleAssets': 1710590000},\n",
       "  {'reportDate': '2016-12-31',\n",
       "   'fiscalDate': '2016-12-31',\n",
       "   'currency': 'USD',\n",
       "   'currentCash': 812558000,\n",
       "   'shortTermInvestments': 5519000,\n",
       "   'receivables': 2361367000,\n",
       "   'inventory': 499917000,\n",
       "   'otherCurrentAssets': 174491000,\n",
       "   'currentAssets': 3853852000,\n",
       "   'longTermInvestments': 38119000,\n",
       "   'propertyPlantEquipment': 981593000,\n",
       "   'goodwill': 53391000,\n",
       "   'intangibleAssets': 10547000,\n",
       "   'otherAssets': 25812000,\n",
       "   'totalAssets': 9890240000,\n",
       "   'accountsPayable': 235318000,\n",
       "   'currentLongTermDebt': 1084884000,\n",
       "   'otherCurrentLiabilities': 460512000,\n",
       "   'totalCurrentLiabilities': 2862562000,\n",
       "   'longTermDebt': 4666975000,\n",
       "   'otherLiabilities': 127297000,\n",
       "   'minorityInterest': 0,\n",
       "   'totalLiabilities': 7970082000,\n",
       "   'commonStock': 175947709,\n",
       "   'retainedEarnings': 1337673000,\n",
       "   'treasuryStock': 825195,\n",
       "   'capitalSurplus': 1381862000,\n",
       "   'shareholderEquity': 1920158000,\n",
       "   'netTangibleAssets': 1793155000}]}"
      ]
     },
     "execution_count": 138,
     "metadata": {},
     "output_type": "execute_result"
    }
   ],
   "source": [
    "json_dict = response.json()\n",
    "json_dict"
   ]
  },
  {
   "cell_type": "code",
   "execution_count": 139,
   "metadata": {},
   "outputs": [],
   "source": [
    "json_dict = response.json()\n",
    "balance = json_normalize(json_dict, record_path=['balancesheet'])"
   ]
  },
  {
   "cell_type": "code",
   "execution_count": 140,
   "metadata": {},
   "outputs": [
    {
     "data": {
      "text/html": [
       "<div>\n",
       "<style scoped>\n",
       "    .dataframe tbody tr th:only-of-type {\n",
       "        vertical-align: middle;\n",
       "    }\n",
       "\n",
       "    .dataframe tbody tr th {\n",
       "        vertical-align: top;\n",
       "    }\n",
       "\n",
       "    .dataframe thead th {\n",
       "        text-align: right;\n",
       "    }\n",
       "</style>\n",
       "<table border=\"1\" class=\"dataframe\">\n",
       "  <thead>\n",
       "    <tr style=\"text-align: right;\">\n",
       "      <th></th>\n",
       "      <th>reportDate</th>\n",
       "      <th>fiscalDate</th>\n",
       "      <th>currency</th>\n",
       "      <th>currentCash</th>\n",
       "      <th>shortTermInvestments</th>\n",
       "      <th>receivables</th>\n",
       "      <th>inventory</th>\n",
       "      <th>otherCurrentAssets</th>\n",
       "      <th>currentAssets</th>\n",
       "      <th>longTermInvestments</th>\n",
       "      <th>...</th>\n",
       "      <th>longTermDebt</th>\n",
       "      <th>otherLiabilities</th>\n",
       "      <th>minorityInterest</th>\n",
       "      <th>totalLiabilities</th>\n",
       "      <th>commonStock</th>\n",
       "      <th>retainedEarnings</th>\n",
       "      <th>treasuryStock</th>\n",
       "      <th>capitalSurplus</th>\n",
       "      <th>shareholderEquity</th>\n",
       "      <th>netTangibleAssets</th>\n",
       "    </tr>\n",
       "  </thead>\n",
       "  <tbody>\n",
       "    <tr>\n",
       "      <th>0</th>\n",
       "      <td>2019-12-31</td>\n",
       "      <td>2019-12-31</td>\n",
       "      <td>USD</td>\n",
       "      <td>898422000</td>\n",
       "      <td>NaN</td>\n",
       "      <td>2531856000</td>\n",
       "      <td>603571000</td>\n",
       "      <td>168974000</td>\n",
       "      <td>4202823000</td>\n",
       "      <td>52575000</td>\n",
       "      <td>...</td>\n",
       "      <td>5169273000</td>\n",
       "      <td>161217000</td>\n",
       "      <td>0</td>\n",
       "      <td>8724160000</td>\n",
       "      <td>152468442</td>\n",
       "      <td>2193997000</td>\n",
       "      <td>388032</td>\n",
       "      <td>1491004000</td>\n",
       "      <td>1803999000</td>\n",
       "      <td>1662842000</td>\n",
       "    </tr>\n",
       "    <tr>\n",
       "      <th>1</th>\n",
       "      <td>2018-12-31</td>\n",
       "      <td>2018-12-31</td>\n",
       "      <td>USD</td>\n",
       "      <td>1253041000</td>\n",
       "      <td>10007000.0</td>\n",
       "      <td>2520898000</td>\n",
       "      <td>556128000</td>\n",
       "      <td>144368000</td>\n",
       "      <td>4484442000</td>\n",
       "      <td>54250000</td>\n",
       "      <td>...</td>\n",
       "      <td>4887667000</td>\n",
       "      <td>142808000</td>\n",
       "      <td>0</td>\n",
       "      <td>8891715000</td>\n",
       "      <td>159657947</td>\n",
       "      <td>2007583000</td>\n",
       "      <td>356197</td>\n",
       "      <td>1459620000</td>\n",
       "      <td>1773949000</td>\n",
       "      <td>1656619000</td>\n",
       "    </tr>\n",
       "    <tr>\n",
       "      <th>2</th>\n",
       "      <td>2017-12-31</td>\n",
       "      <td>2017-12-31</td>\n",
       "      <td>USD</td>\n",
       "      <td>735039000</td>\n",
       "      <td>NaN</td>\n",
       "      <td>2435648000</td>\n",
       "      <td>538202000</td>\n",
       "      <td>175853000</td>\n",
       "      <td>3884742000</td>\n",
       "      <td>48006000</td>\n",
       "      <td>...</td>\n",
       "      <td>4587258000</td>\n",
       "      <td>137378000</td>\n",
       "      <td>0</td>\n",
       "      <td>8128395000</td>\n",
       "      <td>168090816</td>\n",
       "      <td>1607570000</td>\n",
       "      <td>612523</td>\n",
       "      <td>1422808000</td>\n",
       "      <td>1844277000</td>\n",
       "      <td>1710590000</td>\n",
       "    </tr>\n",
       "    <tr>\n",
       "      <th>3</th>\n",
       "      <td>2016-12-31</td>\n",
       "      <td>2016-12-31</td>\n",
       "      <td>USD</td>\n",
       "      <td>812558000</td>\n",
       "      <td>5519000.0</td>\n",
       "      <td>2361367000</td>\n",
       "      <td>499917000</td>\n",
       "      <td>174491000</td>\n",
       "      <td>3853852000</td>\n",
       "      <td>38119000</td>\n",
       "      <td>...</td>\n",
       "      <td>4666975000</td>\n",
       "      <td>127297000</td>\n",
       "      <td>0</td>\n",
       "      <td>7970082000</td>\n",
       "      <td>175947709</td>\n",
       "      <td>1337673000</td>\n",
       "      <td>825195</td>\n",
       "      <td>1381862000</td>\n",
       "      <td>1920158000</td>\n",
       "      <td>1793155000</td>\n",
       "    </tr>\n",
       "  </tbody>\n",
       "</table>\n",
       "<p>4 rows × 29 columns</p>\n",
       "</div>"
      ],
      "text/plain": [
       "   reportDate  fiscalDate currency  currentCash  shortTermInvestments  \\\n",
       "0  2019-12-31  2019-12-31      USD    898422000                   NaN   \n",
       "1  2018-12-31  2018-12-31      USD   1253041000            10007000.0   \n",
       "2  2017-12-31  2017-12-31      USD    735039000                   NaN   \n",
       "3  2016-12-31  2016-12-31      USD    812558000             5519000.0   \n",
       "\n",
       "   receivables  inventory  otherCurrentAssets  currentAssets  \\\n",
       "0   2531856000  603571000           168974000     4202823000   \n",
       "1   2520898000  556128000           144368000     4484442000   \n",
       "2   2435648000  538202000           175853000     3884742000   \n",
       "3   2361367000  499917000           174491000     3853852000   \n",
       "\n",
       "   longTermInvestments  ...  longTermDebt  otherLiabilities  minorityInterest  \\\n",
       "0             52575000  ...    5169273000         161217000                 0   \n",
       "1             54250000  ...    4887667000         142808000                 0   \n",
       "2             48006000  ...    4587258000         137378000                 0   \n",
       "3             38119000  ...    4666975000         127297000                 0   \n",
       "\n",
       "   totalLiabilities  commonStock  retainedEarnings  treasuryStock  \\\n",
       "0        8724160000    152468442        2193997000         388032   \n",
       "1        8891715000    159657947        2007583000         356197   \n",
       "2        8128395000    168090816        1607570000         612523   \n",
       "3        7970082000    175947709        1337673000         825195   \n",
       "\n",
       "   capitalSurplus  shareholderEquity  netTangibleAssets  \n",
       "0      1491004000         1803999000         1662842000  \n",
       "1      1459620000         1773949000         1656619000  \n",
       "2      1422808000         1844277000         1710590000  \n",
       "3      1381862000         1920158000         1793155000  \n",
       "\n",
       "[4 rows x 29 columns]"
      ]
     },
     "execution_count": 140,
     "metadata": {},
     "output_type": "execute_result"
    }
   ],
   "source": [
    "balance"
   ]
  },
  {
   "cell_type": "code",
   "execution_count": 141,
   "metadata": {},
   "outputs": [
    {
     "data": {
      "text/plain": [
       "nan"
      ]
     },
     "execution_count": 141,
     "metadata": {},
     "output_type": "execute_result"
    }
   ],
   "source": [
    "balance.iloc[2]['shortTermInvestments']"
   ]
  },
  {
   "cell_type": "code",
   "execution_count": 142,
   "metadata": {},
   "outputs": [
    {
     "data": {
      "text/plain": [
       "200"
      ]
     },
     "execution_count": 142,
     "metadata": {},
     "output_type": "execute_result"
    }
   ],
   "source": [
    "# get income statement\n",
    "response = requests.get('https://'+api+'.iexapis.com/stable/stock/'+ticker+'/income?period='+period+'&last='+last+'&token='+token)\n",
    "response.status_code"
   ]
  },
  {
   "cell_type": "code",
   "execution_count": 143,
   "metadata": {},
   "outputs": [],
   "source": [
    "json_dict = response.json()\n",
    "income = json_normalize(json_dict, record_path=['income'])"
   ]
  },
  {
   "cell_type": "code",
   "execution_count": 144,
   "metadata": {},
   "outputs": [
    {
     "data": {
      "text/plain": [
       "200"
      ]
     },
     "execution_count": 144,
     "metadata": {},
     "output_type": "execute_result"
    }
   ],
   "source": [
    "# get cash flow statement\n",
    "response = requests.get('https://'+api+'.iexapis.com/stable/stock/'+ticker+'/cash-flow?period='+period+'&last='+last+'&token='+token)\n",
    "response.status_code"
   ]
  },
  {
   "cell_type": "code",
   "execution_count": 145,
   "metadata": {},
   "outputs": [],
   "source": [
    "json_dict = response.json()\n",
    "cashflow = json_normalize(json_dict, record_path=['cashflow'])"
   ]
  },
  {
   "cell_type": "code",
   "execution_count": 146,
   "metadata": {},
   "outputs": [
    {
     "data": {
      "text/plain": [
       "Index(['reportDate', 'fiscalDate', 'currency', 'netIncome', 'depreciation',\n",
       "       'changesInReceivables', 'changesInInventories', 'cashChange',\n",
       "       'cashFlow', 'capitalExpenditures', 'investments',\n",
       "       'investingActivityOther', 'totalInvestingCashFlows', 'dividendsPaid',\n",
       "       'netBorrowings', 'otherFinancingCashFlows', 'cashFlowFinancing',\n",
       "       'exchangeRateEffect'],\n",
       "      dtype='object')"
      ]
     },
     "execution_count": 146,
     "metadata": {},
     "output_type": "execute_result"
    }
   ],
   "source": [
    "cashflow.columns"
   ]
  },
  {
   "cell_type": "code",
   "execution_count": 147,
   "metadata": {},
   "outputs": [
    {
     "data": {
      "text/plain": [
       "Index(['reportDate', 'fiscalDate', 'currency', 'currentCash',\n",
       "       'shortTermInvestments', 'receivables', 'inventory',\n",
       "       'otherCurrentAssets', 'currentAssets', 'longTermInvestments',\n",
       "       'propertyPlantEquipment', 'goodwill', 'intangibleAssets', 'otherAssets',\n",
       "       'totalAssets', 'accountsPayable', 'currentLongTermDebt',\n",
       "       'otherCurrentLiabilities', 'totalCurrentLiabilities', 'longTermDebt',\n",
       "       'otherLiabilities', 'minorityInterest', 'totalLiabilities',\n",
       "       'commonStock', 'retainedEarnings', 'treasuryStock', 'capitalSurplus',\n",
       "       'shareholderEquity', 'netTangibleAssets'],\n",
       "      dtype='object')"
      ]
     },
     "execution_count": 147,
     "metadata": {},
     "output_type": "execute_result"
    }
   ],
   "source": [
    "balance.columns"
   ]
  },
  {
   "cell_type": "code",
   "execution_count": 148,
   "metadata": {},
   "outputs": [
    {
     "data": {
      "text/plain": [
       "Index(['reportDate', 'fiscalDate', 'currency', 'totalRevenue', 'costOfRevenue',\n",
       "       'grossProfit', 'researchAndDevelopment', 'sellingGeneralAndAdmin',\n",
       "       'operatingExpense', 'operatingIncome', 'otherIncomeExpenseNet', 'ebit',\n",
       "       'interestIncome', 'pretaxIncome', 'incomeTax', 'minorityInterest',\n",
       "       'netIncome', 'netIncomeBasic'],\n",
       "      dtype='object')"
      ]
     },
     "execution_count": 148,
     "metadata": {},
     "output_type": "execute_result"
    }
   ],
   "source": [
    "income.columns"
   ]
  },
  {
   "cell_type": "code",
   "execution_count": 149,
   "metadata": {},
   "outputs": [
    {
     "data": {
      "text/html": [
       "<div>\n",
       "<style scoped>\n",
       "    .dataframe tbody tr th:only-of-type {\n",
       "        vertical-align: middle;\n",
       "    }\n",
       "\n",
       "    .dataframe tbody tr th {\n",
       "        vertical-align: top;\n",
       "    }\n",
       "\n",
       "    .dataframe thead th {\n",
       "        text-align: right;\n",
       "    }\n",
       "</style>\n",
       "<table border=\"1\" class=\"dataframe\">\n",
       "  <thead>\n",
       "    <tr style=\"text-align: right;\">\n",
       "      <th></th>\n",
       "      <th>reportDate</th>\n",
       "      <th>fiscalDate</th>\n",
       "      <th>currency</th>\n",
       "      <th>totalRevenue</th>\n",
       "      <th>costOfRevenue</th>\n",
       "      <th>grossProfit</th>\n",
       "      <th>researchAndDevelopment</th>\n",
       "      <th>sellingGeneralAndAdmin</th>\n",
       "      <th>operatingExpense</th>\n",
       "      <th>operatingIncome</th>\n",
       "      <th>otherIncomeExpenseNet</th>\n",
       "      <th>ebit</th>\n",
       "      <th>interestIncome</th>\n",
       "      <th>pretaxIncome</th>\n",
       "      <th>incomeTax</th>\n",
       "      <th>minorityInterest</th>\n",
       "      <th>netIncome</th>\n",
       "      <th>netIncomeBasic</th>\n",
       "    </tr>\n",
       "  </thead>\n",
       "  <tbody>\n",
       "    <tr>\n",
       "      <th>0</th>\n",
       "      <td>2019-12-31</td>\n",
       "      <td>2019-12-31</td>\n",
       "      <td>USD</td>\n",
       "      <td>5361789000</td>\n",
       "      <td>3668731000</td>\n",
       "      <td>1693058000</td>\n",
       "      <td>216500000</td>\n",
       "      <td>782220000</td>\n",
       "      <td>4667451000</td>\n",
       "      <td>559802000</td>\n",
       "      <td>-2387000</td>\n",
       "      <td>559802000</td>\n",
       "      <td>30716000</td>\n",
       "      <td>557415000</td>\n",
       "      <td>133780000</td>\n",
       "      <td>0</td>\n",
       "      <td>423635000</td>\n",
       "      <td>423635000</td>\n",
       "    </tr>\n",
       "    <tr>\n",
       "      <th>1</th>\n",
       "      <td>2018-12-31</td>\n",
       "      <td>2018-12-31</td>\n",
       "      <td>USD</td>\n",
       "      <td>5716875000</td>\n",
       "      <td>3742255000</td>\n",
       "      <td>1974620000</td>\n",
       "      <td>191600000</td>\n",
       "      <td>880312000</td>\n",
       "      <td>4814167000</td>\n",
       "      <td>795838000</td>\n",
       "      <td>-109209000</td>\n",
       "      <td>795838000</td>\n",
       "      <td>28834000</td>\n",
       "      <td>686629000</td>\n",
       "      <td>155178000</td>\n",
       "      <td>0</td>\n",
       "      <td>531451000</td>\n",
       "      <td>531451000</td>\n",
       "    </tr>\n",
       "    <tr>\n",
       "      <th>2</th>\n",
       "      <td>2017-12-31</td>\n",
       "      <td>2017-12-31</td>\n",
       "      <td>USD</td>\n",
       "      <td>5647224000</td>\n",
       "      <td>3606480000</td>\n",
       "      <td>2040744000</td>\n",
       "      <td>175200000</td>\n",
       "      <td>835138000</td>\n",
       "      <td>4616818000</td>\n",
       "      <td>897962000</td>\n",
       "      <td>-34123000</td>\n",
       "      <td>897962000</td>\n",
       "      <td>30562000</td>\n",
       "      <td>863839000</td>\n",
       "      <td>342080000</td>\n",
       "      <td>0</td>\n",
       "      <td>521759000</td>\n",
       "      <td>521759000</td>\n",
       "    </tr>\n",
       "    <tr>\n",
       "      <th>3</th>\n",
       "      <td>2016-12-31</td>\n",
       "      <td>2016-12-31</td>\n",
       "      <td>USD</td>\n",
       "      <td>5996458000</td>\n",
       "      <td>3782711000</td>\n",
       "      <td>2213747000</td>\n",
       "      <td>172300000</td>\n",
       "      <td>873938000</td>\n",
       "      <td>4828949000</td>\n",
       "      <td>1030892000</td>\n",
       "      <td>-6981000</td>\n",
       "      <td>1030892000</td>\n",
       "      <td>29308000</td>\n",
       "      <td>1023911000</td>\n",
       "      <td>331747000</td>\n",
       "      <td>0</td>\n",
       "      <td>692164000</td>\n",
       "      <td>692164000</td>\n",
       "    </tr>\n",
       "  </tbody>\n",
       "</table>\n",
       "</div>"
      ],
      "text/plain": [
       "   reportDate  fiscalDate currency  totalRevenue  costOfRevenue  grossProfit  \\\n",
       "0  2019-12-31  2019-12-31      USD    5361789000     3668731000   1693058000   \n",
       "1  2018-12-31  2018-12-31      USD    5716875000     3742255000   1974620000   \n",
       "2  2017-12-31  2017-12-31      USD    5647224000     3606480000   2040744000   \n",
       "3  2016-12-31  2016-12-31      USD    5996458000     3782711000   2213747000   \n",
       "\n",
       "   researchAndDevelopment  sellingGeneralAndAdmin  operatingExpense  \\\n",
       "0               216500000               782220000        4667451000   \n",
       "1               191600000               880312000        4814167000   \n",
       "2               175200000               835138000        4616818000   \n",
       "3               172300000               873938000        4828949000   \n",
       "\n",
       "   operatingIncome  otherIncomeExpenseNet        ebit  interestIncome  \\\n",
       "0        559802000               -2387000   559802000        30716000   \n",
       "1        795838000             -109209000   795838000        28834000   \n",
       "2        897962000              -34123000   897962000        30562000   \n",
       "3       1030892000               -6981000  1030892000        29308000   \n",
       "\n",
       "   pretaxIncome  incomeTax  minorityInterest  netIncome  netIncomeBasic  \n",
       "0     557415000  133780000                 0  423635000       423635000  \n",
       "1     686629000  155178000                 0  531451000       531451000  \n",
       "2     863839000  342080000                 0  521759000       521759000  \n",
       "3    1023911000  331747000                 0  692164000       692164000  "
      ]
     },
     "execution_count": 149,
     "metadata": {},
     "output_type": "execute_result"
    }
   ],
   "source": [
    "income"
   ]
  },
  {
   "cell_type": "code",
   "execution_count": 150,
   "metadata": {},
   "outputs": [
    {
     "data": {
      "text/plain": [
       "5716875000"
      ]
     },
     "execution_count": 150,
     "metadata": {},
     "output_type": "execute_result"
    }
   ],
   "source": [
    "income.iloc[1]['totalRevenue']"
   ]
  },
  {
   "cell_type": "code",
   "execution_count": 151,
   "metadata": {},
   "outputs": [
    {
     "data": {
      "text/html": [
       "<div>\n",
       "<style scoped>\n",
       "    .dataframe tbody tr th:only-of-type {\n",
       "        vertical-align: middle;\n",
       "    }\n",
       "\n",
       "    .dataframe tbody tr th {\n",
       "        vertical-align: top;\n",
       "    }\n",
       "\n",
       "    .dataframe thead th {\n",
       "        text-align: right;\n",
       "    }\n",
       "</style>\n",
       "<table border=\"1\" class=\"dataframe\">\n",
       "  <thead>\n",
       "    <tr style=\"text-align: right;\">\n",
       "      <th></th>\n",
       "      <th>reportDate</th>\n",
       "      <th>fiscalDate</th>\n",
       "      <th>currency</th>\n",
       "      <th>currentCash</th>\n",
       "      <th>shortTermInvestments</th>\n",
       "      <th>receivables</th>\n",
       "      <th>inventory</th>\n",
       "      <th>otherCurrentAssets</th>\n",
       "      <th>currentAssets</th>\n",
       "      <th>longTermInvestments</th>\n",
       "      <th>...</th>\n",
       "      <th>longTermDebt</th>\n",
       "      <th>otherLiabilities</th>\n",
       "      <th>minorityInterest</th>\n",
       "      <th>totalLiabilities</th>\n",
       "      <th>commonStock</th>\n",
       "      <th>retainedEarnings</th>\n",
       "      <th>treasuryStock</th>\n",
       "      <th>capitalSurplus</th>\n",
       "      <th>shareholderEquity</th>\n",
       "      <th>netTangibleAssets</th>\n",
       "    </tr>\n",
       "  </thead>\n",
       "  <tbody>\n",
       "    <tr>\n",
       "      <th>0</th>\n",
       "      <td>2019-12-31</td>\n",
       "      <td>2019-12-31</td>\n",
       "      <td>USD</td>\n",
       "      <td>898422000</td>\n",
       "      <td>NaN</td>\n",
       "      <td>2531856000</td>\n",
       "      <td>603571000</td>\n",
       "      <td>168974000</td>\n",
       "      <td>4202823000</td>\n",
       "      <td>52575000</td>\n",
       "      <td>...</td>\n",
       "      <td>5169273000</td>\n",
       "      <td>161217000</td>\n",
       "      <td>0</td>\n",
       "      <td>8724160000</td>\n",
       "      <td>152468442</td>\n",
       "      <td>2193997000</td>\n",
       "      <td>388032</td>\n",
       "      <td>1491004000</td>\n",
       "      <td>1803999000</td>\n",
       "      <td>1662842000</td>\n",
       "    </tr>\n",
       "    <tr>\n",
       "      <th>1</th>\n",
       "      <td>2018-12-31</td>\n",
       "      <td>2018-12-31</td>\n",
       "      <td>USD</td>\n",
       "      <td>1253041000</td>\n",
       "      <td>10007000.0</td>\n",
       "      <td>2520898000</td>\n",
       "      <td>556128000</td>\n",
       "      <td>144368000</td>\n",
       "      <td>4484442000</td>\n",
       "      <td>54250000</td>\n",
       "      <td>...</td>\n",
       "      <td>4887667000</td>\n",
       "      <td>142808000</td>\n",
       "      <td>0</td>\n",
       "      <td>8891715000</td>\n",
       "      <td>159657947</td>\n",
       "      <td>2007583000</td>\n",
       "      <td>356197</td>\n",
       "      <td>1459620000</td>\n",
       "      <td>1773949000</td>\n",
       "      <td>1656619000</td>\n",
       "    </tr>\n",
       "    <tr>\n",
       "      <th>2</th>\n",
       "      <td>2017-12-31</td>\n",
       "      <td>2017-12-31</td>\n",
       "      <td>USD</td>\n",
       "      <td>735039000</td>\n",
       "      <td>NaN</td>\n",
       "      <td>2435648000</td>\n",
       "      <td>538202000</td>\n",
       "      <td>175853000</td>\n",
       "      <td>3884742000</td>\n",
       "      <td>48006000</td>\n",
       "      <td>...</td>\n",
       "      <td>4587258000</td>\n",
       "      <td>137378000</td>\n",
       "      <td>0</td>\n",
       "      <td>8128395000</td>\n",
       "      <td>168090816</td>\n",
       "      <td>1607570000</td>\n",
       "      <td>612523</td>\n",
       "      <td>1422808000</td>\n",
       "      <td>1844277000</td>\n",
       "      <td>1710590000</td>\n",
       "    </tr>\n",
       "    <tr>\n",
       "      <th>3</th>\n",
       "      <td>2016-12-31</td>\n",
       "      <td>2016-12-31</td>\n",
       "      <td>USD</td>\n",
       "      <td>812558000</td>\n",
       "      <td>5519000.0</td>\n",
       "      <td>2361367000</td>\n",
       "      <td>499917000</td>\n",
       "      <td>174491000</td>\n",
       "      <td>3853852000</td>\n",
       "      <td>38119000</td>\n",
       "      <td>...</td>\n",
       "      <td>4666975000</td>\n",
       "      <td>127297000</td>\n",
       "      <td>0</td>\n",
       "      <td>7970082000</td>\n",
       "      <td>175947709</td>\n",
       "      <td>1337673000</td>\n",
       "      <td>825195</td>\n",
       "      <td>1381862000</td>\n",
       "      <td>1920158000</td>\n",
       "      <td>1793155000</td>\n",
       "    </tr>\n",
       "  </tbody>\n",
       "</table>\n",
       "<p>4 rows × 29 columns</p>\n",
       "</div>"
      ],
      "text/plain": [
       "   reportDate  fiscalDate currency  currentCash  shortTermInvestments  \\\n",
       "0  2019-12-31  2019-12-31      USD    898422000                   NaN   \n",
       "1  2018-12-31  2018-12-31      USD   1253041000            10007000.0   \n",
       "2  2017-12-31  2017-12-31      USD    735039000                   NaN   \n",
       "3  2016-12-31  2016-12-31      USD    812558000             5519000.0   \n",
       "\n",
       "   receivables  inventory  otherCurrentAssets  currentAssets  \\\n",
       "0   2531856000  603571000           168974000     4202823000   \n",
       "1   2520898000  556128000           144368000     4484442000   \n",
       "2   2435648000  538202000           175853000     3884742000   \n",
       "3   2361367000  499917000           174491000     3853852000   \n",
       "\n",
       "   longTermInvestments  ...  longTermDebt  otherLiabilities  minorityInterest  \\\n",
       "0             52575000  ...    5169273000         161217000                 0   \n",
       "1             54250000  ...    4887667000         142808000                 0   \n",
       "2             48006000  ...    4587258000         137378000                 0   \n",
       "3             38119000  ...    4666975000         127297000                 0   \n",
       "\n",
       "   totalLiabilities  commonStock  retainedEarnings  treasuryStock  \\\n",
       "0        8724160000    152468442        2193997000         388032   \n",
       "1        8891715000    159657947        2007583000         356197   \n",
       "2        8128395000    168090816        1607570000         612523   \n",
       "3        7970082000    175947709        1337673000         825195   \n",
       "\n",
       "   capitalSurplus  shareholderEquity  netTangibleAssets  \n",
       "0      1491004000         1803999000         1662842000  \n",
       "1      1459620000         1773949000         1656619000  \n",
       "2      1422808000         1844277000         1710590000  \n",
       "3      1381862000         1920158000         1793155000  \n",
       "\n",
       "[4 rows x 29 columns]"
      ]
     },
     "execution_count": 151,
     "metadata": {},
     "output_type": "execute_result"
    }
   ],
   "source": [
    "balance"
   ]
  },
  {
   "cell_type": "code",
   "execution_count": 152,
   "metadata": {},
   "outputs": [
    {
     "data": {
      "text/plain": [
       "reportDate                  2019-12-31\n",
       "fiscalDate                  2019-12-31\n",
       "currency                           USD\n",
       "currentCash                  898422000\n",
       "shortTermInvestments               NaN\n",
       "receivables                 2531856000\n",
       "inventory                    603571000\n",
       "otherCurrentAssets           168974000\n",
       "currentAssets               4202823000\n",
       "longTermInvestments           52575000\n",
       "propertyPlantEquipment       909000000\n",
       "goodwill                      64160000\n",
       "intangibleAssets              10597000\n",
       "otherAssets                   85956000\n",
       "totalAssets                10528159000\n",
       "accountsPayable              294380000\n",
       "currentLongTermDebt         1748109000\n",
       "otherCurrentLiabilities      533404000\n",
       "totalCurrentLiabilities     3196772000\n",
       "longTermDebt                5169273000\n",
       "otherLiabilities             161217000\n",
       "minorityInterest                     0\n",
       "totalLiabilities            8724160000\n",
       "commonStock                  152468442\n",
       "retainedEarnings            2193997000\n",
       "treasuryStock                   388032\n",
       "capitalSurplus              1491004000\n",
       "shareholderEquity           1803999000\n",
       "netTangibleAssets           1662842000\n",
       "Name: 0, dtype: object"
      ]
     },
     "execution_count": 152,
     "metadata": {},
     "output_type": "execute_result"
    }
   ],
   "source": [
    "balance.iloc[0]"
   ]
  },
  {
   "cell_type": "code",
   "execution_count": 153,
   "metadata": {},
   "outputs": [
    {
     "data": {
      "text/plain": [
       "reportDate                2019-12-31\n",
       "fiscalDate                2019-12-31\n",
       "currency                         USD\n",
       "totalRevenue              5361789000\n",
       "costOfRevenue             3668731000\n",
       "grossProfit               1693058000\n",
       "researchAndDevelopment     216500000\n",
       "sellingGeneralAndAdmin     782220000\n",
       "operatingExpense          4667451000\n",
       "operatingIncome            559802000\n",
       "otherIncomeExpenseNet       -2387000\n",
       "ebit                       559802000\n",
       "interestIncome              30716000\n",
       "pretaxIncome               557415000\n",
       "incomeTax                  133780000\n",
       "minorityInterest                   0\n",
       "netIncome                  423635000\n",
       "netIncomeBasic             423635000\n",
       "Name: 0, dtype: object"
      ]
     },
     "execution_count": 153,
     "metadata": {},
     "output_type": "execute_result"
    }
   ],
   "source": [
    "income.iloc[0]"
   ]
  },
  {
   "cell_type": "code",
   "execution_count": 154,
   "metadata": {},
   "outputs": [
    {
     "data": {
      "text/plain": [
       "reportDate                  2019-12-31\n",
       "fiscalDate                  2019-12-31\n",
       "currency                           USD\n",
       "netIncome                    423635000\n",
       "depreciation                 232537000\n",
       "changesInReceivables         -10958000\n",
       "changesInInventories         -47576000\n",
       "cashChange                  -354382000\n",
       "cashFlow                     868272000\n",
       "capitalExpenditures         -181440000\n",
       "investments                   10007000\n",
       "investingActivityOther     -3847322000\n",
       "totalInvestingCashFlows     -508126000\n",
       "dividendsPaid               -237221000\n",
       "netBorrowings               -182071000\n",
       "otherFinancingCashFlows            NaN\n",
       "cashFlowFinancing           -712223000\n",
       "exchangeRateEffect            -2305000\n",
       "Name: 0, dtype: object"
      ]
     },
     "execution_count": 154,
     "metadata": {},
     "output_type": "execute_result"
    }
   ],
   "source": [
    "cashflow.iloc[0]"
   ]
  },
  {
   "cell_type": "code",
   "execution_count": 155,
   "metadata": {},
   "outputs": [],
   "source": [
    "f_score = 0"
   ]
  },
  {
   "cell_type": "code",
   "execution_count": 156,
   "metadata": {},
   "outputs": [],
   "source": [
    "# Profitability"
   ]
  },
  {
   "cell_type": "code",
   "execution_count": 157,
   "metadata": {},
   "outputs": [
    {
     "data": {
      "text/plain": [
       "0.039719514884399135"
      ]
     },
     "execution_count": 157,
     "metadata": {},
     "output_type": "execute_result"
    }
   ],
   "source": [
    "# 1. Return on Assets\n",
    "income.iloc[0]['netIncome']/balance.iloc[1]['totalAssets']"
   ]
  },
  {
   "cell_type": "code",
   "execution_count": 158,
   "metadata": {},
   "outputs": [
    {
     "data": {
      "text/plain": [
       "1"
      ]
     },
     "execution_count": 158,
     "metadata": {},
     "output_type": "execute_result"
    }
   ],
   "source": [
    "if income.iloc[0]['netIncome']/balance.iloc[1]['totalAssets'] > 0:\n",
    "    f_score += 1\n",
    "else:\n",
    "    f_score += 0\n",
    "f_score"
   ]
  },
  {
   "cell_type": "code",
   "execution_count": 159,
   "metadata": {},
   "outputs": [
    {
     "data": {
      "text/plain": [
       "868272000"
      ]
     },
     "execution_count": 159,
     "metadata": {},
     "output_type": "execute_result"
    }
   ],
   "source": [
    "# 2. Operating Cash Flow\n",
    "cashflow.iloc[0]['cashFlow']"
   ]
  },
  {
   "cell_type": "code",
   "execution_count": 160,
   "metadata": {},
   "outputs": [
    {
     "data": {
      "text/plain": [
       "2"
      ]
     },
     "execution_count": 160,
     "metadata": {},
     "output_type": "execute_result"
    }
   ],
   "source": [
    "if cashflow.iloc[0]['cashFlow'] > 0:\n",
    "    f_score += 1\n",
    "else:\n",
    "    f_score += 0\n",
    "f_score"
   ]
  },
  {
   "cell_type": "code",
   "execution_count": 161,
   "metadata": {},
   "outputs": [
    {
     "data": {
      "text/plain": [
       "0.039719514884399135"
      ]
     },
     "execution_count": 161,
     "metadata": {},
     "output_type": "execute_result"
    }
   ],
   "source": [
    "# 3. Change in Return on Assets\n",
    "income.iloc[0]['netIncome']/balance.iloc[1]['totalAssets']"
   ]
  },
  {
   "cell_type": "code",
   "execution_count": 162,
   "metadata": {},
   "outputs": [
    {
     "data": {
      "text/plain": [
       "0.053290732914909864"
      ]
     },
     "execution_count": 162,
     "metadata": {},
     "output_type": "execute_result"
    }
   ],
   "source": [
    "income.iloc[1]['netIncome']/balance.iloc[2]['totalAssets']"
   ]
  },
  {
   "cell_type": "code",
   "execution_count": 163,
   "metadata": {},
   "outputs": [
    {
     "data": {
      "text/plain": [
       "2"
      ]
     },
     "execution_count": 163,
     "metadata": {},
     "output_type": "execute_result"
    }
   ],
   "source": [
    "if income.iloc[0]['netIncome']/balance.iloc[1]['totalAssets'] > income.iloc[1]['netIncome']/balance.iloc[2]['totalAssets']:\n",
    "    f_score += 1\n",
    "else:\n",
    "    f_score += 0\n",
    "f_score"
   ]
  },
  {
   "cell_type": "code",
   "execution_count": 164,
   "metadata": {},
   "outputs": [
    {
     "data": {
      "text/plain": [
       "0.08140815236632243"
      ]
     },
     "execution_count": 164,
     "metadata": {},
     "output_type": "execute_result"
    }
   ],
   "source": [
    "# 4. Accruals\n",
    "cashflow.iloc[0]['cashFlow']/balance.iloc[1]['totalAssets']"
   ]
  },
  {
   "cell_type": "code",
   "execution_count": 165,
   "metadata": {},
   "outputs": [
    {
     "data": {
      "text/plain": [
       "0.039719514884399135"
      ]
     },
     "execution_count": 165,
     "metadata": {},
     "output_type": "execute_result"
    }
   ],
   "source": [
    "income.iloc[0]['netIncome']/balance.iloc[1]['totalAssets']"
   ]
  },
  {
   "cell_type": "code",
   "execution_count": 166,
   "metadata": {},
   "outputs": [
    {
     "data": {
      "text/plain": [
       "3"
      ]
     },
     "execution_count": 166,
     "metadata": {},
     "output_type": "execute_result"
    }
   ],
   "source": [
    "if cashflow.iloc[0]['cashFlow']/balance.iloc[1]['totalAssets'] > income.iloc[0]['netIncome']/balance.iloc[1]['totalAssets']:\n",
    "    f_score += 1\n",
    "else:\n",
    "    f_score += 0\n",
    "f_score"
   ]
  },
  {
   "cell_type": "code",
   "execution_count": 167,
   "metadata": {},
   "outputs": [],
   "source": [
    "# Leverage, Liquidity and Source of Funds"
   ]
  },
  {
   "cell_type": "code",
   "execution_count": 168,
   "metadata": {},
   "outputs": [
    {
     "data": {
      "text/plain": [
       "0.4909949593276469"
      ]
     },
     "execution_count": 168,
     "metadata": {},
     "output_type": "execute_result"
    }
   ],
   "source": [
    "# 5. Change in Leverage (long-term) Ratio\n",
    "balance.iloc[0]['longTermDebt']/balance.iloc[0]['totalAssets']"
   ]
  },
  {
   "cell_type": "code",
   "execution_count": 169,
   "metadata": {},
   "outputs": [
    {
     "data": {
      "text/plain": [
       "0.4582618578646393"
      ]
     },
     "execution_count": 169,
     "metadata": {},
     "output_type": "execute_result"
    }
   ],
   "source": [
    "balance.iloc[1]['longTermDebt']/balance.iloc[1]['totalAssets']"
   ]
  },
  {
   "cell_type": "code",
   "execution_count": 170,
   "metadata": {},
   "outputs": [
    {
     "data": {
      "text/plain": [
       "3"
      ]
     },
     "execution_count": 170,
     "metadata": {},
     "output_type": "execute_result"
    }
   ],
   "source": [
    "if balance.iloc[0]['longTermDebt']/balance.iloc[0]['totalAssets'] < balance.iloc[1]['longTermDebt']/balance.iloc[1]['totalAssets']:\n",
    "    f_score += 1\n",
    "else:\n",
    "    f_score += 0\n",
    "f_score"
   ]
  },
  {
   "cell_type": "code",
   "execution_count": 171,
   "metadata": {},
   "outputs": [
    {
     "data": {
      "text/plain": [
       "1.3147083995980946"
      ]
     },
     "execution_count": 171,
     "metadata": {},
     "output_type": "execute_result"
    }
   ],
   "source": [
    "# 6. Change in Current Ratio\n",
    "balance.iloc[0]['currentAssets'] / balance.iloc[0]['totalCurrentLiabilities']"
   ]
  },
  {
   "cell_type": "code",
   "execution_count": 172,
   "metadata": {},
   "outputs": [
    {
     "data": {
      "text/plain": [
       "1.2465093395597064"
      ]
     },
     "execution_count": 172,
     "metadata": {},
     "output_type": "execute_result"
    }
   ],
   "source": [
    "balance.iloc[1]['currentAssets'] / balance.iloc[1]['totalCurrentLiabilities']"
   ]
  },
  {
   "cell_type": "code",
   "execution_count": 173,
   "metadata": {},
   "outputs": [
    {
     "data": {
      "text/plain": [
       "4"
      ]
     },
     "execution_count": 173,
     "metadata": {},
     "output_type": "execute_result"
    }
   ],
   "source": [
    "if balance.iloc[0]['currentAssets'] / balance.iloc[0]['totalCurrentLiabilities'] > balance.iloc[1]['currentAssets'] / balance.iloc[1]['totalCurrentLiabilities']:\n",
    "    f_score += 1\n",
    "else:\n",
    "    f_score += 0\n",
    "f_score"
   ]
  },
  {
   "cell_type": "code",
   "execution_count": 174,
   "metadata": {},
   "outputs": [],
   "source": [
    "# 7. Change in the Number of Shares"
   ]
  },
  {
   "cell_type": "code",
   "execution_count": 175,
   "metadata": {},
   "outputs": [
    {
     "data": {
      "text/plain": [
       "200"
      ]
     },
     "execution_count": 175,
     "metadata": {},
     "output_type": "execute_result"
    }
   ],
   "source": [
    "# get shares issued\n",
    "response = requests.get('https://'+api+'.iexapis.com/stable/stock/'+ticker+'/stats/sharesOutstanding?token='+token)\n",
    "response.status_code"
   ]
  },
  {
   "cell_type": "code",
   "execution_count": 176,
   "metadata": {},
   "outputs": [
    {
     "data": {
      "text/plain": [
       "153135000"
      ]
     },
     "execution_count": 176,
     "metadata": {},
     "output_type": "execute_result"
    }
   ],
   "source": [
    "shares = response.json()\n",
    "shares"
   ]
  },
  {
   "cell_type": "code",
   "execution_count": 177,
   "metadata": {},
   "outputs": [
    {
     "data": {
      "text/plain": [
       "200"
      ]
     },
     "execution_count": 177,
     "metadata": {},
     "output_type": "execute_result"
    }
   ],
   "source": [
    "response = requests.get('https://'+api+'.iexapis.com/stable/time-series/REPORTED_FINANCIALS/'+ticker+'/10-K?token='+token)\n",
    "response.status_code"
   ]
  },
  {
   "cell_type": "code",
   "execution_count": 178,
   "metadata": {},
   "outputs": [],
   "source": [
    "json_dict = response.json()\n",
    "financials = json_normalize(json_dict)"
   ]
  },
  {
   "cell_type": "code",
   "execution_count": 179,
   "metadata": {},
   "outputs": [
    {
     "data": {
      "text/plain": [
       "181931225"
      ]
     },
     "execution_count": 179,
     "metadata": {},
     "output_type": "execute_result"
    }
   ],
   "source": [
    "financials['CommonStockSharesIssued'].iloc[0]"
   ]
  },
  {
   "cell_type": "code",
   "execution_count": 180,
   "metadata": {},
   "outputs": [
    {
     "data": {
      "text/plain": [
       "5"
      ]
     },
     "execution_count": 180,
     "metadata": {},
     "output_type": "execute_result"
    }
   ],
   "source": [
    "if shares < financials['CommonStockSharesIssued'].iloc[0]:\n",
    "    f_score += 1\n",
    "else:\n",
    "    f_score += 0\n",
    "f_score"
   ]
  },
  {
   "cell_type": "code",
   "execution_count": 181,
   "metadata": {},
   "outputs": [],
   "source": [
    "# Operating Efficiency"
   ]
  },
  {
   "cell_type": "code",
   "execution_count": 182,
   "metadata": {},
   "outputs": [
    {
     "data": {
      "text/plain": [
       "0.3157636378455027"
      ]
     },
     "execution_count": 182,
     "metadata": {},
     "output_type": "execute_result"
    }
   ],
   "source": [
    "# 8. Change in Gross Margin\n",
    "income.iloc[0]['grossProfit']/income.iloc[0]['totalRevenue']"
   ]
  },
  {
   "cell_type": "code",
   "execution_count": 183,
   "metadata": {},
   "outputs": [
    {
     "data": {
      "text/plain": [
       "0.3454019897234066"
      ]
     },
     "execution_count": 183,
     "metadata": {},
     "output_type": "execute_result"
    }
   ],
   "source": [
    "income.iloc[1]['grossProfit']/income.iloc[1]['totalRevenue']"
   ]
  },
  {
   "cell_type": "code",
   "execution_count": 184,
   "metadata": {},
   "outputs": [
    {
     "data": {
      "text/plain": [
       "5"
      ]
     },
     "execution_count": 184,
     "metadata": {},
     "output_type": "execute_result"
    }
   ],
   "source": [
    "if income.iloc[0]['grossProfit']/income.iloc[0]['totalRevenue'] > income.iloc[1]['grossProfit']/income.iloc[1]['totalRevenue']:\n",
    "    f_score += 1\n",
    "else:\n",
    "    f_score += 0 \n",
    "f_score"
   ]
  },
  {
   "cell_type": "code",
   "execution_count": 185,
   "metadata": {},
   "outputs": [
    {
     "data": {
      "text/plain": [
       "0.502714973957552"
      ]
     },
     "execution_count": 185,
     "metadata": {},
     "output_type": "execute_result"
    }
   ],
   "source": [
    "# 9. Change in Asset Turnover Ratio \n",
    "income.iloc[0]['totalRevenue']/balance.iloc[1]['totalAssets']"
   ]
  },
  {
   "cell_type": "code",
   "execution_count": 186,
   "metadata": {},
   "outputs": [
    {
     "data": {
      "text/plain": [
       "0.573254088773801"
      ]
     },
     "execution_count": 186,
     "metadata": {},
     "output_type": "execute_result"
    }
   ],
   "source": [
    "income.iloc[1]['totalRevenue']/balance.iloc[2]['totalAssets']"
   ]
  },
  {
   "cell_type": "code",
   "execution_count": 187,
   "metadata": {},
   "outputs": [
    {
     "data": {
      "text/plain": [
       "5"
      ]
     },
     "execution_count": 187,
     "metadata": {},
     "output_type": "execute_result"
    }
   ],
   "source": [
    "if income.iloc[0]['totalRevenue']/balance.iloc[1]['totalAssets'] > income.iloc[1]['totalRevenue']/balance.iloc[2]['totalAssets']:\n",
    "    f_score += 1\n",
    "else:\n",
    "    f_score += 0  \n",
    "f_score"
   ]
  },
  {
   "cell_type": "code",
   "execution_count": 188,
   "metadata": {},
   "outputs": [
    {
     "data": {
      "text/plain": [
       "5"
      ]
     },
     "execution_count": 188,
     "metadata": {},
     "output_type": "execute_result"
    }
   ],
   "source": [
    "# Piotroski F-Score\n",
    "f_score"
   ]
  },
  {
   "cell_type": "code",
   "execution_count": null,
   "metadata": {},
   "outputs": [],
   "source": []
  },
  {
   "cell_type": "code",
   "execution_count": null,
   "metadata": {},
   "outputs": [],
   "source": []
  },
  {
   "cell_type": "code",
   "execution_count": null,
   "metadata": {},
   "outputs": [],
   "source": []
  },
  {
   "cell_type": "code",
   "execution_count": null,
   "metadata": {},
   "outputs": [],
   "source": []
  }
 ],
 "metadata": {
  "kernelspec": {
   "display_name": "Python 3",
   "language": "python",
   "name": "python3"
  },
  "language_info": {
   "codemirror_mode": {
    "name": "ipython",
    "version": 3
   },
   "file_extension": ".py",
   "mimetype": "text/x-python",
   "name": "python",
   "nbconvert_exporter": "python",
   "pygments_lexer": "ipython3",
   "version": "3.7.4"
  }
 },
 "nbformat": 4,
 "nbformat_minor": 2
}
