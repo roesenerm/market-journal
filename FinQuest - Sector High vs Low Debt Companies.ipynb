{
 "cells": [
  {
   "cell_type": "code",
   "execution_count": 31,
   "metadata": {},
   "outputs": [],
   "source": [
    "import pandas as pd\n",
    "import numpy as np"
   ]
  },
  {
   "cell_type": "code",
   "execution_count": 32,
   "metadata": {},
   "outputs": [],
   "source": [
    "df = pd.read_csv(r'finviz_3_22_2020.csv')"
   ]
  },
  {
   "cell_type": "code",
   "execution_count": 33,
   "metadata": {},
   "outputs": [
    {
     "data": {
      "text/plain": [
       "Index(['No.', 'Ticker', 'Company', 'Sector', 'Industry', 'Country',\n",
       "       'Market Cap', 'P/E', 'Forward P/E', 'PEG', 'P/S', 'P/B', 'P/Cash',\n",
       "       'P/Free Cash Flow', 'Dividend Yield', 'Payout Ratio', 'EPS (ttm)',\n",
       "       'EPS growth this year', 'EPS growth next year',\n",
       "       'EPS growth past 5 years', 'EPS growth next 5 years',\n",
       "       'Sales growth past 5 years', 'EPS growth quarter over quarter',\n",
       "       'Sales growth quarter over quarter', 'Shares Outstanding',\n",
       "       'Shares Float', 'Insider Ownership', 'Insider Transactions',\n",
       "       'Institutional Ownership', 'Institutional Transactions', 'Float Short',\n",
       "       'Short Ratio', 'Return on Assets', 'Return on Equity',\n",
       "       'Return on Investment', 'Current Ratio', 'Quick Ratio',\n",
       "       'LT Debt/Equity', 'Total Debt/Equity', 'Gross Margin',\n",
       "       'Operating Margin', 'Profit Margin', 'Performance (Week)',\n",
       "       'Performance (Month)', 'Performance (Quarter)',\n",
       "       'Performance (Half Year)', 'Performance (Year)', 'Performance (YTD)',\n",
       "       'Beta', 'Average True Range', 'Volatility (Week)', 'Volatility (Month)',\n",
       "       '20-Day Simple Moving Average', '50-Day Simple Moving Average',\n",
       "       '200-Day Simple Moving Average', '50-Day High', '50-Day Low',\n",
       "       '52-Week High', '52-Week Low', 'Relative Strength Index (14)',\n",
       "       'Change from Open', 'Gap', 'Analyst Recom', 'Average Volume',\n",
       "       'Relative Volume', 'Price', 'Change', 'Volume', 'Earnings Date',\n",
       "       'Target Price', 'IPO Date'],\n",
       "      dtype='object')"
      ]
     },
     "execution_count": 33,
     "metadata": {},
     "output_type": "execute_result"
    }
   ],
   "source": [
    "df.columns"
   ]
  },
  {
   "cell_type": "code",
   "execution_count": 34,
   "metadata": {},
   "outputs": [
    {
     "data": {
      "text/plain": [
       "(7744, 71)"
      ]
     },
     "execution_count": 34,
     "metadata": {},
     "output_type": "execute_result"
    }
   ],
   "source": [
    "df.shape"
   ]
  },
  {
   "cell_type": "code",
   "execution_count": 35,
   "metadata": {},
   "outputs": [],
   "source": [
    "df['YTD'] = df['Performance (YTD)'].apply(lambda x: float(str(x).strip('%'))/100)"
   ]
  },
  {
   "cell_type": "code",
   "execution_count": 36,
   "metadata": {},
   "outputs": [
    {
     "data": {
      "text/plain": [
       "array(['Technology', 'Utilities', 'Industrial Goods', 'Consumer Goods',\n",
       "       'Services', 'Basic Materials', 'Financial', 'Healthcare',\n",
       "       'Conglomerates'], dtype=object)"
      ]
     },
     "execution_count": 36,
     "metadata": {},
     "output_type": "execute_result"
    }
   ],
   "source": [
    "df['Sector'].unique()"
   ]
  },
  {
   "cell_type": "code",
   "execution_count": 37,
   "metadata": {},
   "outputs": [],
   "source": [
    "healthcare = df[df['Sector'] == 'Healthcare']"
   ]
  },
  {
   "cell_type": "code",
   "execution_count": 38,
   "metadata": {},
   "outputs": [],
   "source": [
    "materials = df[df['Sector'] == 'Basic Materials']"
   ]
  },
  {
   "cell_type": "code",
   "execution_count": 39,
   "metadata": {},
   "outputs": [],
   "source": [
    "financials = df[df['Sector'] == 'Financial']"
   ]
  },
  {
   "cell_type": "code",
   "execution_count": 40,
   "metadata": {},
   "outputs": [],
   "source": [
    "services = df[df['Sector'] == 'Services']"
   ]
  },
  {
   "cell_type": "code",
   "execution_count": 51,
   "metadata": {},
   "outputs": [
    {
     "name": "stdout",
     "output_type": "stream",
     "text": [
      "U.S. Xpress Enterprises, Inc.\n",
      "AutoWeb, Inc.\n",
      "Knight-Swift Transportation Holdings Inc.\n",
      "Werner Enterprises, Inc.\n",
      "Landstar System, Inc.\n",
      "USA Truck, Inc.\n",
      "ArcBest Corporation\n",
      "Patriot Transportation Holding, Inc.\n",
      "Heartland Express, Inc.\n",
      "Schneider National, Inc.\n",
      "Echo Global Logistics, Inc.\n",
      "Covenant Transportation Group, Inc.\n",
      "YRC Worldwide Inc.\n",
      "J.B. Hunt Transport Services, Inc.\n",
      "Daseke, Inc.\n",
      "Saia, Inc.\n",
      "Universal Logistics Holdings, Inc.\n",
      "Marten Transport, Ltd.\n",
      "P.A.M. Transportation Services, Inc.\n",
      "Old Dominion Freight Line, Inc.\n",
      "TFI International Inc.\n",
      "Build-A-Bear Workshop, Inc.\n",
      "KBR, Inc.\n",
      "NV5 Global, Inc.\n",
      "Tetra Tech, Inc.\n",
      "Ameresco, Inc.\n",
      "AECOM\n",
      "ENGlobal Corporation\n",
      "Jacobs Engineering Group Inc.\n",
      "Willdan Group, Inc.\n",
      "Grana y Montero S.A.A.\n",
      "VSE Corporation\n",
      "Baker Hughes Company\n",
      "Paychex, Inc.\n",
      "ASGN Incorporated\n",
      "HireQuest, Inc.\n",
      "Heidrick & Struggles International, Inc.\n",
      "DLH Holdings Corp.\n",
      "Resources Connection, Inc.\n",
      "Mastech Digital, Inc.\n",
      "HeadHunter Group PLC\n",
      "Cross Country Healthcare, Inc.\n",
      "ManpowerGroup Inc.\n",
      "Staffing 360 Solutions, Inc.\n",
      "Robert Half International Inc.\n",
      "DHI Group, Inc.\n",
      "TrueBlue, Inc.\n",
      "RCM Technologies, Inc.\n",
      "Kelly Services, Inc.\n",
      "Kelly Services, Inc.\n",
      "Kforce Inc.\n",
      "Korn Ferry\n",
      "Hudson Global, Inc.\n",
      "GEE Group, Inc.\n",
      "51job, Inc.\n",
      "BG Staffing, Inc.\n",
      "Barrett Business Services, Inc.\n",
      "ShiftPixy, Inc.\n",
      "Acushnet Holdings Corp.\n",
      "Big 5 Sporting Goods Corporation\n",
      "Hibbett Sports, Inc.\n",
      "DICK'S Sporting Goods, Inc.\n",
      "Bowl America, Inc.\n",
      "Dover Motorsports, Inc.\n",
      "Planet Fitness, Inc.\n",
      "Manchester United plc\n",
      "Town Sports International Holdings, Inc.\n",
      "SeaWorld Entertainment, Inc.\n",
      "Secoo Holding Limited\n",
      "iMedia Brands, Inc.\n",
      "National Vision Holdings, Inc.\n",
      "Barnes & Noble Education, Inc.\n",
      "Murphy USA Inc.\n",
      "Alibaba Group Holding Limited\n",
      "Etsy, Inc.\n",
      "Stitch Fix, Inc.\n",
      "The Michaels Companies, Inc.\n",
      "MarineMax, Inc.\n",
      "Capstar Financial Holdings, Inc.\n",
      "Pinduoduo Inc.\n",
      "American Outdoor Brands Corporation\n",
      "Blue Apron Holdings, Inc.\n",
      "Chewy, Inc.\n",
      "MOGU Inc.\n",
      "ECMOHO Limited\n",
      "Qurate Retail, Inc.\n",
      "Qurate Retail, Inc.\n",
      "The Container Store Group, Inc.\n",
      "Medifast, Inc.\n",
      "Winmark Corporation\n",
      "Hudson Ltd.\n",
      "Takung Art Co., Ltd.\n",
      "Jumia Technologies AG\n",
      "Jumei International Holding Limited\n",
      "Party City Holdco Inc.\n",
      "eBay Inc.\n",
      "eBay Inc. NT 56\n",
      "Retail Value Inc.\n",
      "Revolve Group, Inc.\n",
      "Ruhnn Holding Limited\n",
      "1-800-FLOWERS.COM, Inc.\n",
      "TravelCenters of America Inc.\n",
      "Yunji Inc.\n",
      "Zumiez Inc.\n",
      "Reebonz Holding Limited\n",
      "ZAGG Inc\n",
      "Sally Beauty Holdings, Inc.\n",
      "Office Depot, Inc.\n",
      "Envela Corporation\n",
      "Betterware de Mexico, S.A. de C.V.\n",
      "RumbleON, Inc.\n",
      "Tractor Supply Company\n",
      "Five Below, Inc.\n",
      "JanOne Inc.\n",
      "Farfetch Limited\n",
      "FTD Companies, Inc.\n",
      "The RealReal, Inc.\n",
      "KAR Auction Services, Inc.\n",
      "Ulta Beauty, Inc.\n",
      "Starbucks Corporation\n",
      "Flanigan's Enterprises, Inc.\n",
      "Papa John's International, Inc.\n",
      "Aramark\n",
      "Shake Shack Inc.\n",
      "Potbelly Corporation\n",
      "Ardmore Shipping Corporation\n",
      "Euroseas Ltd.\n",
      "Seanergy Maritime Holdings Corp.\n",
      "Dorian LPG Ltd.\n",
      "Pangaea Logistics Solutions, Ltd.\n",
      "Grindrod Shipping Holdings Ltd.\n",
      "Costamare Inc.\n",
      "Dynagas LNG Partners LP\n",
      "SFL Corporation Ltd.\n",
      "Euronav NV\n",
      "Nordic American Tankers Limited\n",
      "Performance Shipping Inc.\n",
      "DHT Holdings, Inc.\n",
      "StealthGas Inc.\n",
      "Hoegh LNG Partners LP\n",
      "Overseas Shipholding Group, Inc.\n",
      "Castor Maritime Inc.\n",
      "Matson, Inc.\n",
      "KNOT Offshore Partners LP\n",
      "Golden Ocean Group Limited\n",
      "Teekay Tankers Ltd.\n",
      "Tsakos Energy Navigation Limited\n",
      "Top Ships Inc.\n",
      "EuroDry Ltd.\n",
      "Navios Maritime Partners L.P.\n",
      "Navios Maritime Acquisition Corporation\n",
      "Teekay Corporation\n",
      "Eagle Bulk Shipping Inc.\n",
      "Capital Product Partners L.P.\n",
      "Scorpio Tankers Inc.\n",
      "Pyxis Tankers Inc.\n",
      "Frontline Ltd.\n",
      "Safe Bulkers, Inc.\n",
      "Scorpio Bulkers Inc.\n",
      "Star Bulk Carriers Corp.\n",
      "Global Ship Lease, Inc.\n",
      "Globus Maritime Limited\n",
      "Golar LNG Limited\n",
      "GasLog Ltd.\n",
      "GasLog Partners LP\n",
      "TORM plc\n",
      "Hermitage Offshore Services Ltd.\n",
      "Kirby Corporation\n",
      "Navigator Holdings Ltd.\n",
      "Diamond S Shipping Inc.\n",
      "Diana Shipping Inc.\n",
      "Golar LNG Partners LP\n",
      "Golar LNG Partners LP 8.75% CUM PFD A\n",
      "Genco Shipping & Trading Limited\n",
      "Teekay LNG Partners L.P.\n",
      "Danaos Corporation\n",
      "Navios Maritime Holdings Inc.\n",
      "Navios Maritime Containers L.P.\n",
      "Mistras Group, Inc.\n",
      "The Brink's Company\n",
      "Kratos Defense & Security Solutions, Inc.\n",
      "Allegion plc\n",
      "Vivint Smart Home, Inc.\n",
      "ADT Inc.\n",
      "Napco Security Technologies, Inc.\n",
      "MSA Safety Incorporated\n",
      "Magal Security Systems Ltd.\n",
      "Universal Security Instruments, Inc.\n",
      "Nxt-ID, Inc.\n",
      "Resideo Technologies, Inc.\n",
      "CompX International Inc.\n",
      "Verra Mobility Corporation\n",
      "Rekor Systems, Inc.\n",
      "Biglari Holdings Inc.\n",
      "Biglari Holdings Inc.\n",
      "Del Taco Restaurants, Inc.\n",
      "Noodles & Company\n",
      "Brinker International, Inc.\n",
      "Red Robin Gourmet Burgers, Inc.\n",
      "Ruth's Hospitality Group, Inc.\n",
      "Kura Sushi USA, Inc.\n",
      "Waitr Holdings Inc.\n",
      "BBQ Holdings, Inc.\n",
      "The ONE Group Hospitality, Inc.\n",
      "The Cheesecake Factory Incorporated\n",
      "Wingstop Inc.\n",
      "Dave & Buster's Entertainment, Inc.\n",
      "J. Alexander's Holdings, Inc.\n",
      "RCI Hospitality Holdings, Inc.\n",
      "Fiesta Restaurant Group, Inc.\n",
      "Dunkin' Brands Group, Inc.\n",
      "RAVE Restaurant Group, Inc.\n",
      "Yum! Brands, Inc.\n",
      "Yum China Holdings, Inc.\n",
      "Carrols Restaurant Group, Inc.\n",
      "Chanticleer Holdings, Inc.\n",
      "BJ's Restaurants, Inc.\n",
      "Luby's, Inc.\n",
      "Luckin Coffee Inc.\n",
      "Kona Grill, Inc.\n",
      "Chuy's Holdings, Inc.\n",
      "The Habit Restaurants, Inc.\n",
      "Denny's Corporation\n",
      "Nathan's Famous, Inc.\n",
      "Jack in the Box Inc.\n",
      "Restaurant Brands International Inc.\n",
      "Dine Brands Global, Inc.\n",
      "Texas Roadhouse, Inc.\n",
      "Darden Restaurants, Inc.\n",
      "Domino's Pizza, Inc.\n",
      "The Wendy's Company\n",
      "Good Times Restaurants Inc.\n",
      "Ark Restaurants Corp.\n",
      "Cracker Barrel Old Country Store, Inc.\n",
      "Muscle Maker, Inc.\n",
      "Chipotle Mexican Grill, Inc.\n",
      "Arcos Dorados Holdings Inc.\n",
      "Performance Food Group Company\n",
      "McDonald's Corporation\n",
      "FAT Brands Inc.\n",
      "El Pollo Loco Holdings, Inc.\n",
      "Bloomin' Brands, Inc.\n",
      "Hilton Grand Vacations Inc.\n",
      "Century Casinos, Inc.\n",
      "Monarch Casino & Resort, Inc.\n",
      "Melco Resorts & Entertainment Limited\n",
      "Playa Hotels & Resorts N.V.\n",
      "Marriott Vacations Worldwide Corporation\n",
      "Eldorado Resorts, Inc.\n",
      "Carnival Corporation & Plc\n",
      "Penn National Gaming, Inc.\n",
      "Las Vegas Sands Corp.\n",
      "OneSpaWorld Holdings Limited\n",
      "Vail Resorts, Inc.\n",
      "Twin River Worldwide Holdings, Inc.\n",
      "Bluegreen Vacations Corporation\n",
      "Studio City International Holdings Limited\n",
      "Caesars Entertainment Corporation\n",
      "Royal Caribbean Cruises Ltd.\n",
      "Boyd Gaming Corporation\n",
      "Golden Entertainment, Inc.\n",
      "Full House Resorts, Inc.\n",
      "Wynn Resorts, Limited\n",
      "MGM Resorts International\n",
      "Norwegian Cruise Line Holdings Ltd.\n",
      "Myriad Genetics, Inc.\n",
      "Forrester Research, Inc.\n",
      "CareDx, Inc\n",
      "Bioanalytical Systems, Inc.\n",
      "QIAGEN N.V.\n",
      "Fly Leasing Limited\n",
      "Red Rock Resorts, Inc.\n",
      "Avis Budget Group, Inc.\n",
      "WillScot Corporation\n",
      "AeroCentury Corp.\n",
      "H&E Equipment Services, Inc.\n",
      "Air Lease Corporation\n",
      "AMERCO\n",
      "Aaron's, Inc.\n",
      "Hertz Global Holdings, Inc.\n",
      "CAI International, Inc.\n",
      "Ryder System, Inc.\n",
      "Triton International Limited\n",
      "Rent-A-Center, Inc.\n",
      "Fortress Transportation and Infrastructure Investors LLC\n",
      "Textainer Group Holdings Limited\n",
      "Alta Equipment Group Inc.\n",
      "General Finance Corporation\n",
      "General Finance Corporation\n",
      "HyreCar Inc.\n",
      "Willis Lease Finance Corporation\n",
      "GATX Corporation\n",
      "McGrath RentCorp\n",
      "Aircastle Limited\n",
      "Herc Holdings Inc.\n",
      "United Rentals, Inc.\n",
      "Gol Linhas Aereas Inteligentes S.A.\n",
      "Allegiant Travel Company\n",
      "Alaska Air Group, Inc.\n",
      "Ryanair Holdings plc\n",
      "JetBlue Airways Corporation\n",
      "Hawaiian Holdings, Inc.\n",
      "Avianca Holdings S.A.\n",
      "LATAM Airlines Group S.A.\n",
      "Southwest Airlines Co.\n",
      "Copa Holdings, S.A.\n",
      "SkyWest, Inc.\n",
      "Union Pacific Corporation\n",
      "Canadian National Railway Company\n",
      "The Greenbrier Companies, Inc.\n",
      "6291\n",
      "CSX Corporation\n",
      "Canadian Pacific Railway Limited\n",
      "Norfolk Southern Corporation\n",
      "L.B. Foster Company\n",
      "Trinity Industries, Inc.\n",
      "FreightCar America, Inc.\n",
      "Guangshen Railway Company Limited\n",
      "Wabtec Corporation\n",
      "Kansas City Southern\n",
      "Kelso Technologies Inc.\n",
      "Meredith Corporation\n",
      "Thomson Reuters Corporation\n",
      "Value Line, Inc.\n",
      "Tribune Publishing Company\n",
      "The New York Times Company\n",
      "Gannett Co., Inc.\n",
      "Daily Journal Corporation\n",
      "Lee Enterprises, Incorporated\n",
      "A.H. Belo Corporation\n",
      "Educational Development Corporation\n",
      "Scholastic Corporation\n",
      "Pearson plc\n",
      "John Wiley & Sons, Inc.\n",
      "John Wiley & Sons, Inc.\n",
      "Nutrisystem, Inc.\n",
      "Franchise Group, Inc.\n",
      "StoneMor Inc.\n",
      "WW International, Inc.\n",
      "H&R Block, Inc.\n",
      "Matthews International Corporation\n",
      "Carriage Services, Inc.\n",
      "Service Corporation International\n",
      "Bright Horizons Family Solutions Inc.\n",
      "Regis Corporation\n",
      "XpresSpa Group, Inc.\n",
      "Trans World Entertainment Corporation\n",
      "Genius Brands International, Inc.\n",
      "Eros International Plc\n",
      "Cinemark Holdings, Inc.\n",
      "Reading International, Inc.\n",
      "AMC Entertainment Holdings, Inc.\n",
      "Patterson Companies, Inc.\n",
      "Henry Schein, Inc.\n",
      "Owens & Minor, Inc.\n",
      "Monaker Group, Inc.\n",
      "Marchex, Inc.\n",
      "Harte Hanks, Inc.\n",
      "Inuvo, Inc.\n",
      "Quotient Technology Inc.\n",
      "Clear Channel Outdoor Holdings, Inc.\n",
      "Outfront Media Inc.\n",
      "iClick Interactive Asia Group Limited\n",
      "AirNet Technology Inc.\n",
      "National CineMedia, Inc.\n",
      "cbdMD, Inc.\n",
      "Fluent, Inc.\n",
      "Insignia Systems, Inc.\n",
      "MDC Partners Inc.\n",
      "FTI Consulting, Inc.\n",
      "Tradeweb Markets Inc.\n",
      "Hill International, Inc.\n",
      "Huron Consulting Group Inc.\n",
      "SP Plus Corporation\n",
      "Exponent, Inc.\n",
      "Wilhelmina International, Inc.\n",
      "Sunnova Energy International Inc.\n",
      "Booz Allen Hamilton Holding Corporation\n",
      "CRA International, Inc.\n",
      "ICF International, Inc.\n",
      "United Airlines Holdings, Inc.\n",
      "Controladora Vuela Compania de Aviacion, S.A.B. de C.V.\n",
      "Azul S.A.\n",
      "China Eastern Airlines Corporation Limited\n",
      "Mesa Air Group, Inc.\n",
      "American Airlines Group Inc.\n",
      "Delta Air Lines, Inc.\n",
      "Spirit Airlines, Inc.\n",
      "China Southern Airlines Company Limited\n",
      "Hyatt Hotels Corporation\n",
      "Marriott International, Inc.\n",
      "Hilton Worldwide Holdings Inc.\n",
      "Despegar.com, Corp.\n",
      "Extended Stay America, Inc.\n",
      "Trip.com Group Limited\n",
      "InterContinental Hotels Group PLC\n",
      "Expedia Group, Inc.\n",
      "Choice Hotels International, Inc.\n",
      "Wyndham Hotels & Resorts, Inc.\n",
      "Huazhu Group Limited\n",
      "Wyndham Destinations, Inc.\n",
      "Park Hotels & Resorts Inc.\n",
      "GreenTree Hospitality Group Ltd.\n",
      "Red Lion Hotels Corporation\n",
      "Charles & Colvard, Ltd.\n",
      "Signet Jewelers Limited\n",
      "Birks Group Inc.\n",
      "Tiffany & Co.\n",
      "W.W. Grainger, Inc.\n",
      "HD Supply Holdings, Inc.\n",
      "WESCO International, Inc.\n",
      "Anixter International Inc.\n",
      "Lawson Products, Inc.\n",
      "Foundation Building Materials, Inc.\n",
      "Fastenal Company\n",
      "Houston Wire & Cable Company\n",
      "Titan Machinery Inc.\n",
      "Applied Industrial Technologies, Inc.\n",
      "Park-Ohio Holdings Corp.\n",
      "Watsco, Inc.\n",
      "DXP Enterprises, Inc.\n",
      "MSC Industrial Direct Co., Inc.\n",
      "NL Industries, Inc.\n",
      "Lowe's Companies, Inc.\n",
      "Haverty Furniture Companies, Inc.\n",
      "Floor & Decor Holdings, Inc.\n",
      "The Home Depot, Inc.\n",
      "Lumber Liquidators Holdings, Inc.\n",
      "RH\n",
      "Haverty Furniture Companies, Inc.\n",
      "Bed Bath & Beyond Inc.\n",
      "Williams-Sonoma, Inc.\n",
      "Kirkland's, Inc.\n",
      "The Kroger Co.\n",
      "Village Super Market, Inc.\n",
      "Natural Grocers by Vitamin Cottage, Inc.\n",
      "Weis Markets, Inc.\n",
      "Ingles Markets, Incorporated\n",
      "Companhia Brasileira de Distribuicao\n",
      "Sprouts Farmers Market, Inc.\n",
      "iFresh Inc.\n",
      "Grocery Outlet Holding Corp.\n",
      "Casey's General Stores, Inc.\n",
      "Six Flags Entertainment Corporation\n",
      "Cedar Fair, L.P.\n",
      "Carnival Corporation & Plc\n",
      "MakeMyTrip Limited\n",
      "International Game Technology PLC\n",
      "Inspired Entertainment, Inc.\n",
      "Newgioco Group, Inc.\n",
      "Everi Holdings Inc.\n",
      "Scientific Games Corporation\n",
      "Churchill Downs Incorporated\n",
      "The Stars Group Inc.\n",
      "Canterbury Park Holding Corporation\n",
      "TPG Pace Holdings Corp.\n",
      "500.com Limited\n",
      "PlayAGS, Inc.\n",
      "United Natural Foods, Inc.\n",
      "Sysco Corporation\n",
      "The Chefs' Warehouse, Inc.\n",
      "US Foods Holding Corp.\n",
      "SpartanNash Company\n",
      "Core-Mark Holding Company, Inc.\n",
      "The Hain Celestial Group, Inc.\n",
      "AMCON Distributing Company\n",
      "Live Nation Entertainment, Inc.\n",
      "Global Eagle Entertainment Inc.\n",
      "LiveXLive Media, Inc.\n",
      "ViacomCBS Inc.\n",
      "Cinedigm Corp.\n",
      "The Walt Disney Company\n",
      "Discovery, Inc.\n",
      "Fox Corporation\n",
      "Fox Corporation\n",
      "Lions Gate Entertainment Corp.\n",
      "Lions Gate Entertainment Corp.\n",
      "IMAX Corporation\n",
      "Comcast Corporation\n",
      "HUYA Inc.\n",
      "Wanda Sports Group Company Limited\n",
      "The Marcus Corporation\n",
      "World Wrestling Entertainment, Inc.\n",
      "The Madison Square Garden Company\n",
      "MSG Networks Inc.\n",
      "AMC Networks Inc.\n",
      "Reading International, Inc.\n",
      "Liquid Media Group Ltd.\n",
      "ADDvantage Technologies Group, Inc.\n",
      "Watsco, Inc.\n",
      "Taitron Components Incorporated\n",
      "Richardson Electronics, Ltd.\n",
      "Littelfuse, Inc.\n",
      "Arrow Electronics, Inc.\n",
      "Avnet, Inc.\n",
      "Conn's, Inc.\n",
      "Best Buy Co., Inc.\n",
      "GameStop Corp.\n",
      "RYB Education, Inc.\n",
      "Graham Holdings Company\n",
      "Ambow Education Holding Ltd.\n",
      "GSX Techedu Inc.\n",
      "Zovio Inc\n",
      "Tarena International, Inc.\n",
      "Four Seasons Education (Cayman) Inc.\n",
      "TAL Education Group\n",
      "New Oriental Education & Technology Group Inc.\n",
      "Afya Limited\n",
      "Strategic Education, Inc.\n",
      "Puxin Limited\n",
      "ATA Creativity Global\n",
      "Wah Fu Education Group Limited\n",
      "Sunlands Technology Group\n",
      "Perdoceo Education Corporation\n",
      "Houghton Mifflin Harcourt Company\n",
      "Bright Scholar Education Holdings Limited\n",
      "Universal Technical Institute, Inc.\n",
      "American Public Education, Inc.\n",
      "GP Strategies Corporation\n",
      "LAIX Inc.\n",
      "Laureate Education, Inc.\n",
      "K12 Inc.\n",
      "Aspen Group, Inc.\n",
      "Lincoln Educational Services Corporation\n",
      "China Online Education Group\n",
      "Franklin Covey Co.\n",
      "China Distance Education Holdings Limited\n",
      "RISE Education Cayman Ltd\n",
      "Adtalem Global Education Inc.\n",
      "Chegg, Inc.\n",
      "Hailiang Education Group Inc.\n",
      "Grand Canyon Education, Inc.\n",
      "McKesson Corporation\n",
      "AmerisourceBergen Corporation\n",
      "Cardinal Health, Inc.\n",
      "China Jo-Jo Drugstores, Inc.\n",
      "GNC Holdings, Inc.\n",
      "Rite Aid Corporation\n",
      "111, Inc.\n",
      "Walgreens Boots Alliance, Inc.\n",
      "PriceSmart, Inc.\n",
      "Burlington Stores, Inc.\n",
      "Target Corporation\n",
      "BJ's Wholesale Club Holdings, Inc.\n",
      "Big Lots, Inc.\n",
      "Costco Wholesale Corporation\n",
      "Tuesday Morning Corporation\n",
      "Dollar General Corporation\n",
      "Walmart Inc.\n",
      "Dollar Tree, Inc.\n",
      "Ollie's Bargain Outlet Holdings, Inc.\n",
      "The TJX Companies, Inc.\n",
      "Kohl's Corporation\n",
      "J. C. Penney Company, Inc.\n",
      "Macy's, Inc.\n",
      "Dillard's, Inc.\n",
      "EVI Industries, Inc.\n",
      "PC Connection, Inc.\n",
      "Tech Data Corporation\n",
      "Wayside Technology Group, Inc.\n",
      "TiVo Corporation\n",
      "Roku, Inc.\n",
      "Netflix, Inc.\n",
      "Discovery, Inc.\n",
      "DISH Network Corporation\n",
      "Discovery, Inc.\n",
      "WideOpenWest, Inc.\n",
      "Hemisphere Media Group, Inc.\n",
      "Shaw Communications Inc.\n",
      "Charter Communications, Inc.\n",
      "Integrated Media Technology Limited\n",
      "Liberty Broadband Corporation\n",
      "Liberty Global plc\n",
      "Liberty Global plc\n",
      "Liberty Latin America Ltd.\n",
      "Liberty Latin America Ltd.\n",
      "Liquidity Services, Inc.\n",
      "Acorn International, Inc.\n",
      "LightInTheBox Holding Co., Ltd.\n",
      "Vipshop Holdings Limited\n",
      "Overstock.com, Inc.\n",
      "Gaia, Inc.\n",
      "Baozun Inc.\n",
      "MercadoLibre, Inc.\n",
      "Wayfair Inc.\n",
      "Amazon.com, Inc.\n",
      "Lands' End, Inc.\n",
      "AMREP Corporation\n",
      "Moody's Corporation\n",
      "Verisk Analytics, Inc.\n",
      "Performant Financial Corporation\n",
      "PFSweb, Inc.\n",
      "Deluxe Corporation\n",
      "Civeo Corporation\n",
      "Blink Charging Co.\n",
      "Booking Holdings Inc.\n",
      "Interpace Biosciences, Inc.\n",
      "ServiceMaster Global Holdings, Inc.\n",
      "Vectrus, Inc.\n",
      "Altisource Portfolio Solutions S.A.\n",
      "Asta Funding, Inc.\n",
      "Odyssey Marine Exploration, Inc.\n",
      "OneSmart International Education Group Limited\n",
      "Avaya Holdings Corp.\n",
      "Collectors Universe, Inc.\n",
      "SPAR Group, Inc.\n",
      "PaySign, Inc.\n",
      "Global Payments Inc.\n",
      "CBIZ, Inc.\n",
      "Cimpress plc\n",
      "ARC Document Solutions, Inc.\n",
      "Atento S.A.\n",
      "Healthcare Services Group, Inc.\n",
      "Envestnet, Inc.\n",
      "Marathon Patent Group, Inc.\n",
      "Cintas Corporation\n",
      "comScore, Inc.\n",
      "HMS Holdings Corp.\n",
      "PRA Group, Inc.\n",
      "StarTek, Inc.\n",
      "Quad/Graphics, Inc.\n",
      "PRGX Global, Inc.\n",
      "WNS (Holdings) Limited\n",
      "Shutterstock, Inc.\n",
      "Fiverr International Ltd.\n",
      "Donnelley Financial Solutions, Inc.\n",
      "International Seaways, Inc.\n",
      "InnerWorkings, Inc.\n",
      "S&P Global Inc.\n",
      "Acacia Research Corporation\n",
      "ALJ Regional Holdings, Inc.\n",
      "Cardtronics plc\n",
      "Cass Information Systems, Inc.\n",
      "R.R. Donnelley & Sons Company\n",
      "TriNet Group, Inc.\n",
      "FleetCor Technologies, Inc.\n",
      "Emerald Holding, Inc.\n",
      "WEX Inc.\n",
      "Rollins, Inc.\n",
      "Team, Inc.\n",
      "Euronet Worldwide, Inc.\n",
      "Newtek Business Services Corp.\n",
      "ABM Industries Incorporated\n",
      "Viad Corp\n",
      "Steel Connect, Inc.\n",
      "Stantec Inc.\n",
      "MAXIMUS, Inc.\n",
      "Insperity, Inc.\n",
      "frontdoor, inc.\n",
      "Alliance Data Systems Corporation\n",
      "Document Security Systems, Inc.\n",
      "TransUnion\n",
      "IHS Markit Ltd.\n",
      "International Money Express, Inc.\n",
      "Ritchie Bros. Auctioneers Incorporated\n",
      "Net 1 UEPS Technologies, Inc.\n",
      "Louisiana-Pacific Corporation\n",
      "Huttig Building Products, Inc.\n",
      "Norbord Inc.\n",
      "BlueLinx Holdings Inc.\n",
      "TEGNA Inc.\n",
      "Sinclair Broadcast Group, Inc.\n",
      "NTN Buzztime, Inc.\n",
      "The Liberty Braves Group\n",
      "The Liberty Braves Group\n",
      "Chicken Soup for the Soul Entertainment, Inc.\n",
      "Central European Media Enterprises Ltd.\n",
      "Chicken Soup for the Soul Entertainment, Inc.\n",
      "Nexstar Media Group, Inc.\n",
      "News Corporation\n",
      "News Corporation\n",
      "Grupo Televisa, S.A.B.\n",
      "Formula One Group\n",
      "Formula One Group\n",
      "The E.W. Scripps Company\n",
      "Gray Television, Inc.\n",
      "Gray Television, Inc.\n",
      "Liberty Broadband Corporation\n",
      "Entravision Communications Corporation\n",
      "Saga Communications, Inc.\n",
      "Emmis Communications Corporation\n",
      "Cumulus Media Inc.\n",
      "Urban One, Inc.\n",
      "Urban One, Inc.\n",
      "iHeartMedia, Inc.\n",
      "Sirius XM Holdings Inc.\n",
      "The Liberty SiriusXM Group\n",
      "The Liberty SiriusXM Group\n",
      "The Liberty SiriusXM Group\n",
      "Entercom Communications Corp.\n",
      "Spotify Technology S.A.\n",
      "Beasley Broadcast Group, Inc.\n",
      "Salem Media Group, Inc.\n",
      "Townsquare Media, Inc.\n",
      "Global Partners LP\n",
      "Magna International Inc.\n",
      "Commercial Vehicle Group, Inc.\n",
      "AutoZone, Inc.\n",
      "Prospect Capital Corporation\n",
      "O'Reilly Automotive, Inc.\n",
      "Genuine Parts Company\n",
      "Advance Auto Parts, Inc.\n",
      "Rush Enterprises, Inc.\n",
      "Rush Enterprises, Inc.\n",
      "CarMax, Inc.\n",
      "CarGurus, Inc.\n",
      "Cars.com Inc.\n",
      "Carvana Co.\n",
      "America's Car-Mart, Inc.\n",
      "Penske Automotive Group, Inc.\n",
      "Copart, Inc.\n",
      "Asbury Automotive Group, Inc.\n",
      "AutoNation, Inc.\n",
      "Sonic Automotive, Inc.\n",
      "IAA, Inc.\n",
      "LMP Automotive Holdings, Inc.\n",
      "Lazydays Holdings, Inc.\n",
      "Group 1 Automotive, Inc.\n",
      "Lithia Motors, Inc.\n",
      "The Children's Place, Inc.\n",
      "Tailored Brands, Inc.\n",
      "Ross Stores, Inc.\n",
      "Guess', Inc.\n",
      "American Eagle Outfitters, Inc.\n",
      "The Cato Corporation\n",
      "Tilly's, Inc.\n",
      "RTW Retailwinds, Inc.\n",
      "Nordstrom, Inc.\n",
      "Destination XL Group, Inc.\n",
      "Designer Brands Inc.\n",
      "Abercrombie & Fitch Co.\n",
      "Duluth Holdings Inc.\n",
      "Stein Mart, Inc.\n",
      "L Brands, Inc.\n",
      "The Gap, Inc.\n",
      "Express, Inc.\n",
      "Urban Outfitters, Inc.\n",
      "Ascena Retail Group, Inc.\n",
      "Apex Global Brands Inc.\n",
      "Chico's FAS, Inc.\n",
      "Citi Trends, Inc.\n",
      "The Buckle, Inc.\n",
      "Shoe Carnival, Inc.\n",
      "Stage Stores, Inc.\n",
      "Francesca's Holdings Corporation\n",
      "Boot Barn Holdings, Inc.\n",
      "Genesco Inc.\n",
      "J.Jill, Inc.\n",
      "Atlas Air Worldwide Holdings, Inc.\n",
      "AerCap Holdings N.V.\n",
      "Corporacion America Airports S.A.\n",
      "Grupo Aeroportuario del Pacifico, S.A.B. de C.V.\n",
      "Grupo Aeroportuario del Sureste, S. A. B. de C. V.\n",
      "Era Group Inc.\n",
      "Grupo Aeroportuario del Centro Norte, S.A.B. de C.V.\n",
      "PHI, Inc.\n",
      "Macquarie Infrastructure Corporation\n",
      "United Parcel Service, Inc.\n",
      "Sino-Global Shipping America, Ltd.\n",
      "Expeditors International of Washington, Inc.\n",
      "C.H. Robinson Worldwide, Inc.\n",
      "Air Transport Services Group, Inc.\n",
      "XPO Logistics, Inc.\n",
      "Forward Air Corporation\n",
      "FedEx Corporation\n",
      "Roadrunner Transportation Systems, Inc.\n",
      "Air T, Inc.\n",
      "Hub Group, Inc.\n",
      "Radiant Logistics, Inc.\n",
      "ZTO Express (Cayman) Inc.\n",
      "The Interpublic Group of Companies, Inc.\n",
      "Omnicom Group Inc.\n",
      "ChinaNet Online Holdings, Inc.\n",
      "SRAX, Inc.\n",
      "WPP plc\n"
     ]
    }
   ],
   "source": [
    "for i in services['Company']:\n",
    "    print (i)"
   ]
  },
  {
   "cell_type": "code",
   "execution_count": 41,
   "metadata": {},
   "outputs": [],
   "source": [
    "technology = df[df['Sector'] == 'Technology']"
   ]
  },
  {
   "cell_type": "code",
   "execution_count": 42,
   "metadata": {},
   "outputs": [],
   "source": [
    "industrials = df[df['Sector'] == 'Industrial Goods']"
   ]
  },
  {
   "cell_type": "code",
   "execution_count": 43,
   "metadata": {},
   "outputs": [],
   "source": [
    "consumer = df[df['Sector'] == 'Consumer Goods']"
   ]
  },
  {
   "cell_type": "code",
   "execution_count": 44,
   "metadata": {},
   "outputs": [],
   "source": [
    "utilities = df[df['Sector'] == 'Utilities']"
   ]
  },
  {
   "cell_type": "code",
   "execution_count": 45,
   "metadata": {},
   "outputs": [],
   "source": [
    "df = services"
   ]
  },
  {
   "cell_type": "markdown",
   "metadata": {},
   "source": [
    "# Step 1: State the Null & Alternative Hypotheses"
   ]
  },
  {
   "cell_type": "markdown",
   "metadata": {},
   "source": [
    "### High indebted services sector company year to date returns equal low indebted services sector company year to date returns"
   ]
  },
  {
   "cell_type": "markdown",
   "metadata": {},
   "source": [
    "$$H_0: \\mu_1-\\mu_2=0$$"
   ]
  },
  {
   "cell_type": "markdown",
   "metadata": {},
   "source": [
    "### High indebted services sector company year to date returns do not equal low indebted services sector company year to date returns\n"
   ]
  },
  {
   "cell_type": "markdown",
   "metadata": {},
   "source": [
    "$$H_a: \\mu_1-\\mu_2\\neq0$$"
   ]
  },
  {
   "cell_type": "markdown",
   "metadata": {},
   "source": [
    "# Step 2: Identify the Test Statistic & Probability Distribution"
   ]
  },
  {
   "cell_type": "markdown",
   "metadata": {},
   "source": [
    "$$t = \\frac{(\\bar{x_1} - \\bar{x_2})- (\\mu_1 - \\mu_2)}{(\\frac{s_1^2}{n_1}+\\frac{s_2^2}{n_2})^\\frac{1}{2}}$$"
   ]
  },
  {
   "cell_type": "markdown",
   "metadata": {},
   "source": [
    "$$s_p^2 = \\frac{(n_1-1)s_1^2+(n_2-1)s_2^2}{n_1+n_2-2}$$"
   ]
  },
  {
   "cell_type": "code",
   "execution_count": 16,
   "metadata": {},
   "outputs": [
    {
     "data": {
      "text/plain": [
       "198"
      ]
     },
     "execution_count": 16,
     "metadata": {},
     "output_type": "execute_result"
    }
   ],
   "source": [
    "n_1 = df[(df['Total Debt/Equity'] >= 1) & (df['Market Cap'] >= 100)].shape[0]\n",
    "n_1"
   ]
  },
  {
   "cell_type": "code",
   "execution_count": 17,
   "metadata": {},
   "outputs": [
    {
     "data": {
      "text/plain": [
       "306"
      ]
     },
     "execution_count": 17,
     "metadata": {},
     "output_type": "execute_result"
    }
   ],
   "source": [
    "n_2 = df[(df['Total Debt/Equity'] < 1) & (df['Market Cap'] >= 100)].shape[0]\n",
    "n_2"
   ]
  },
  {
   "cell_type": "code",
   "execution_count": 18,
   "metadata": {},
   "outputs": [
    {
     "data": {
      "text/plain": [
       "502"
      ]
     },
     "execution_count": 18,
     "metadata": {},
     "output_type": "execute_result"
    }
   ],
   "source": [
    "dof = n_1 + n_2 -2\n",
    "dof"
   ]
  },
  {
   "cell_type": "markdown",
   "metadata": {},
   "source": [
    "# Step 3: Specify the Decision Rule"
   ]
  },
  {
   "cell_type": "code",
   "execution_count": 19,
   "metadata": {},
   "outputs": [
    {
     "data": {
      "text/plain": [
       "1.964700844883014"
      ]
     },
     "execution_count": 19,
     "metadata": {},
     "output_type": "execute_result"
    }
   ],
   "source": [
    "from scipy import stats \n",
    "stats.t.isf(0.025, dof)"
   ]
  },
  {
   "cell_type": "markdown",
   "metadata": {},
   "source": [
    "# Step 4: Now Collect Data & Calculate Test Statistic"
   ]
  },
  {
   "cell_type": "code",
   "execution_count": 20,
   "metadata": {},
   "outputs": [],
   "source": [
    "high_debt_df = df[(df['Total Debt/Equity'] >= 1) & (df['Market Cap'] >= 100)]"
   ]
  },
  {
   "cell_type": "code",
   "execution_count": 21,
   "metadata": {},
   "outputs": [],
   "source": [
    "low_debt_df = df[(df['Total Debt/Equity'] < 1) & (df['Market Cap'] >= 100)]"
   ]
  },
  {
   "cell_type": "code",
   "execution_count": 22,
   "metadata": {},
   "outputs": [
    {
     "data": {
      "text/plain": [
       "66     -0.4016\n",
       "82     -0.3956\n",
       "84     -0.6101\n",
       "171    -0.4224\n",
       "235    -0.3179\n",
       "         ...  \n",
       "7666   -0.4895\n",
       "7668   -0.2655\n",
       "7669   -0.2400\n",
       "7730   -0.4580\n",
       "7731   -0.3889\n",
       "Name: YTD, Length: 198, dtype: float64"
      ]
     },
     "execution_count": 22,
     "metadata": {},
     "output_type": "execute_result"
    }
   ],
   "source": [
    "high_debt_df['YTD']"
   ]
  },
  {
   "cell_type": "code",
   "execution_count": 23,
   "metadata": {},
   "outputs": [
    {
     "data": {
      "text/plain": [
       "68     -0.1529\n",
       "69     -0.1149\n",
       "70     -0.1711\n",
       "72     -0.3011\n",
       "74     -0.2052\n",
       "         ...  \n",
       "7664   -0.1827\n",
       "7667   -0.3826\n",
       "7671   -0.1663\n",
       "7672   -0.3932\n",
       "7673    0.0574\n",
       "Name: YTD, Length: 306, dtype: float64"
      ]
     },
     "execution_count": 23,
     "metadata": {},
     "output_type": "execute_result"
    }
   ],
   "source": [
    "low_debt_df['YTD']"
   ]
  },
  {
   "cell_type": "code",
   "execution_count": 24,
   "metadata": {},
   "outputs": [
    {
     "data": {
      "text/plain": [
       "<matplotlib.axes._subplots.AxesSubplot at 0x7face0d4af10>"
      ]
     },
     "execution_count": 24,
     "metadata": {},
     "output_type": "execute_result"
    },
    {
     "data": {
      "image/png": "[encoded data removed]",
      "text/plain": [
       "<Figure size 432x288 with 1 Axes>"
      ]
     },
     "metadata": {
      "needs_background": "light"
     },
     "output_type": "display_data"
    }
   ],
   "source": [
    "high_debt_df['YTD'].hist(bins=100)"
   ]
  },
  {
   "cell_type": "code",
   "execution_count": 25,
   "metadata": {},
   "outputs": [
    {
     "data": {
      "text/plain": [
       "<matplotlib.axes._subplots.AxesSubplot at 0x7face0954390>"
      ]
     },
     "execution_count": 25,
     "metadata": {},
     "output_type": "execute_result"
    },
    {
     "data": {
      "image/png": "[encoded data removed]",
      "text/plain": [
       "<Figure size 432x288 with 1 Axes>"
      ]
     },
     "metadata": {
      "needs_background": "light"
     },
     "output_type": "display_data"
    }
   ],
   "source": [
    "low_debt_df['YTD'].hist(bins=100)"
   ]
  },
  {
   "cell_type": "code",
   "execution_count": 26,
   "metadata": {},
   "outputs": [
    {
     "data": {
      "text/plain": [
       "-0.4775712121212121"
      ]
     },
     "execution_count": 26,
     "metadata": {},
     "output_type": "execute_result"
    }
   ],
   "source": [
    "x_1 = high_debt_df['YTD'].mean()\n",
    "x_1"
   ]
  },
  {
   "cell_type": "code",
   "execution_count": 27,
   "metadata": {},
   "outputs": [
    {
     "data": {
      "text/plain": [
       "-0.38118496732026147"
      ]
     },
     "execution_count": 27,
     "metadata": {},
     "output_type": "execute_result"
    }
   ],
   "source": [
    "x_2 = low_debt_df['YTD'].mean()\n",
    "x_2"
   ]
  },
  {
   "cell_type": "code",
   "execution_count": 28,
   "metadata": {},
   "outputs": [
    {
     "data": {
      "text/plain": [
       "0.04238035099446239"
      ]
     },
     "execution_count": 28,
     "metadata": {},
     "output_type": "execute_result"
    }
   ],
   "source": [
    "s_1 = high_debt_df['YTD'].var()\n",
    "s_1"
   ]
  },
  {
   "cell_type": "code",
   "execution_count": 29,
   "metadata": {},
   "outputs": [
    {
     "data": {
      "text/plain": [
       "0.054542687248687445"
      ]
     },
     "execution_count": 29,
     "metadata": {},
     "output_type": "execute_result"
    }
   ],
   "source": [
    "s_2 = low_debt_df['YTD'].var()\n",
    "s_2"
   ]
  },
  {
   "cell_type": "code",
   "execution_count": 30,
   "metadata": {},
   "outputs": [
    {
     "data": {
      "text/plain": [
       "Ttest_indResult(statistic=-4.737072955410869, pvalue=2.8263025816613797e-06)"
      ]
     },
     "execution_count": 30,
     "metadata": {},
     "output_type": "execute_result"
    }
   ],
   "source": [
    "stats.ttest_ind(high_debt_df['YTD'], low_debt_df['YTD'], equal_var=True, nan_policy='omit')"
   ]
  },
  {
   "cell_type": "code",
   "execution_count": null,
   "metadata": {},
   "outputs": [],
   "source": []
  },
  {
   "cell_type": "code",
   "execution_count": null,
   "metadata": {},
   "outputs": [],
   "source": []
  },
  {
   "cell_type": "code",
   "execution_count": null,
   "metadata": {},
   "outputs": [],
   "source": []
  }
 ],
 "metadata": {
  "kernelspec": {
   "display_name": "Python 3",
   "language": "python",
   "name": "python3"
  },
  "language_info": {
   "codemirror_mode": {
    "name": "ipython",
    "version": 3
   },
   "file_extension": ".py",
   "mimetype": "text/x-python",
   "name": "python",
   "nbconvert_exporter": "python",
   "pygments_lexer": "ipython3",
   "version": "3.7.4"
  }
 },
 "nbformat": 4,
 "nbformat_minor": 4
}
